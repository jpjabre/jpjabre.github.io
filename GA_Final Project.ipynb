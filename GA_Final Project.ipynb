{
 "cells": [
  {
   "cell_type": "markdown",
   "metadata": {},
   "source": [
    "# Numerai - A new kind of hedge fund built by a network of data scientists.\n",
    "\n",
    "\n",
    "Numerai is one of the first Hedge Funds to give data away for free with structure-preserving encryption, to allow open participation by data scientists around the world. The encrypted data provided by Numerai is normally too difficult and expensive for the average Data Scientist to get a hold of. However, any data scientist can now create an anonymous account on their website and download the training data (and tournament data) for free. Data Scientists then use their own predictive models on the data to try and optimise their predictions on the tournament data. \n",
    "\n",
    "There is a leaderboard on the website showing the top ranked models/data scientists (as long as they achieve a certain consistency level and logless number). The top ranked data scientists will get paid for their models in the form of cryptocurrency. While the leaderboard provides some competition between users, Numerai is not looking for the 'ultimate model' but instead, all the individual models are contributions to its meta model.\n",
    "\n",
    "The ease with which data scientists can sign up, the friendly competition the company has created, and the financial rewards available are all there to achieve one main goal: increase the network effects of Numerai, and more specifically, the hedge fund industry:\n",
    "###### \"Nearly all of the most valuable companies throughout history were valuable through their strong network effects...The most valuable hedge fund in the 21st century will be the first hedge fund to bring network effects to capital allocation.\"\n",
    "\n",
    "Since its inception 18 months ago, Numerai has grown exponentially. Although the company's fund performance and holdings remains secretive, the number of models and submissions it has received suggests it has achieved some network effects. \n",
    "    - In its first month, Numerai users uploaded 10,292 prediction sets — a total of 200,098,002 equity price predictions.\n",
    "    - Today, according to its website, the company now has 886,000 models submitted, and a total of 46.5 billion individual predictions. \n",
    "\n",
    "An example of one trade that was done as a result of a data scientist's model: \n",
    "\n",
    "On February 27th 2016, an anonymous Data Scientist named NCVSAI joined Numerai. He trained a machine learning model, and began submitting stock predictions to Numerai. In early May, NCVSAI uploads a set of global equity price predictions from his model. At this time, NCVSAI had the most accurate model on Numerai. His strongest prediction: buy Salmar ASA — a Norwegian salmon company. Numerai’s hedge fund goes long Salmar ASA and made 26% in one month. \n",
    "\n",
    "Typical schedule of events for a new member:\n",
    "    1. Sign up on https://numer.ai/ needing only your email address.\n",
    "    2. Every 2 weeks Numerai releases a new set of data to its Data Science community\n",
    "    3. There are two different sets of encrypted datasets that the DS downloads: the training data, and the tournament data. \n",
    "    4. Each DS, under anonymity, models and analyses the data. \n",
    "    5. The DS will then send back their predictions based on the data including a logloss score\n",
    "    6. One week after submission, the DS is notified on how well your predictions performed and whether you will receive any monetary reward in the form of cryptocurrency. \n",
    "    \n",
    "#### Numerai Summary  \n",
    "    • Data is encrypted\n",
    "    • Homomorphic encryption schemes – data structure is preserved after cryptography\n",
    "    • Releases expensive data that most people would not otherwise have access to\n",
    "    • Difficult, if not impossible, for you to trade using this data\n",
    "    • Conversely, your algorithms are not disclosed to Numerai\n",
    "    • You maintain all ownership and IP, only your predictions are submitted\n",
    "    • Participants paid in Cryptocurrency based on the accuracy of their guesses, currently the top 60 or so receive a payout\n",
    "    • “Originality” receives an extra bonus, no information on how this is determined (people will try to game it)"
   ]
  },
  {
   "cell_type": "code",
   "execution_count": 77,
   "metadata": {
    "collapsed": false
   },
   "outputs": [],
   "source": [
    "import numpy as np\n",
    "import scipy.stats as stats\n",
    "import seaborn as sns\n",
    "import matplotlib.pyplot as plt\n",
    "import pandas as pd\n",
    "\n",
    "from scipy import stats\n",
    "import statsmodels.api as sm\n",
    "from sklearn import datasets, metrics, linear_model, feature_selection, preprocessing\n",
    "from sklearn.metrics import mean_squared_error, mean_absolute_error, r2_score, confusion_matrix\n",
    "from sklearn.model_selection import cross_val_predict, cross_val_score, train_test_split\n",
    "from sklearn.metrics import classification_report, confusion_matrix, accuracy_score, roc_curve, auc\n",
    "from sklearn.linear_model import LogisticRegression, LogisticRegressionCV\n",
    "from sklearn.feature_extraction.text import CountVectorizer\n",
    "from sklearn.model_selection import GridSearchCV\n",
    "from sklearn.preprocessing import StandardScaler\n",
    "from sklearn.cross_validation import KFold, StratifiedKFold, cross_val_score\n",
    "from sklearn.ensemble import RandomForestClassifier, RandomForestRegressor\n",
    "from sklearn.neighbors import KNeighborsClassifier \n",
    "import matplotlib.pyplot as plt\n",
    "%matplotlib inline\n",
    "\n",
    "import itertools\n",
    "from sklearn.model_selection import learning_curve\n",
    "from sklearn.model_selection import cross_val_score\n",
    "\n"
   ]
  },
  {
   "cell_type": "markdown",
   "metadata": {
    "collapsed": false
   },
   "source": [
    "## We begin our analysis by using the Training dataset provided. We do an efficient EDA process before modelling. \n",
    "\n",
    "###### The Datasets are released every 2 weeks. For this project we will be using \"Dataset 44\" - released in March 2017. "
   ]
  },
  {
   "cell_type": "code",
   "execution_count": 6,
   "metadata": {
    "collapsed": true
   },
   "outputs": [],
   "source": [
    "training_data = pd.read_csv('/Users/jp/DSI/Capstone/tournament 44/numerai_training_data.csv')\n"
   ]
  },
  {
   "cell_type": "code",
   "execution_count": 7,
   "metadata": {
    "collapsed": false
   },
   "outputs": [
    {
     "name": "stdout",
     "output_type": "stream",
     "text": [
      "(154590, 51)\n"
     ]
    }
   ],
   "source": [
    "print training_data.shape"
   ]
  },
  {
   "cell_type": "code",
   "execution_count": 8,
   "metadata": {
    "collapsed": false
   },
   "outputs": [
    {
     "data": {
      "text/plain": [
       "feature1     0\n",
       "feature2     0\n",
       "feature3     0\n",
       "feature4     0\n",
       "feature5     0\n",
       "feature6     0\n",
       "feature7     0\n",
       "feature8     0\n",
       "feature9     0\n",
       "feature10    0\n",
       "feature11    0\n",
       "feature12    0\n",
       "feature13    0\n",
       "feature14    0\n",
       "feature15    0\n",
       "feature16    0\n",
       "feature17    0\n",
       "feature18    0\n",
       "feature19    0\n",
       "feature20    0\n",
       "feature21    0\n",
       "feature22    0\n",
       "feature23    0\n",
       "feature24    0\n",
       "feature25    0\n",
       "feature26    0\n",
       "feature27    0\n",
       "feature28    0\n",
       "feature29    0\n",
       "feature30    0\n",
       "feature31    0\n",
       "feature32    0\n",
       "feature33    0\n",
       "feature34    0\n",
       "feature35    0\n",
       "feature36    0\n",
       "feature37    0\n",
       "feature38    0\n",
       "feature39    0\n",
       "feature40    0\n",
       "feature41    0\n",
       "feature42    0\n",
       "feature43    0\n",
       "feature44    0\n",
       "feature45    0\n",
       "feature46    0\n",
       "feature47    0\n",
       "feature48    0\n",
       "feature49    0\n",
       "feature50    0\n",
       "target       0\n",
       "dtype: int64"
      ]
     },
     "execution_count": 8,
     "metadata": {},
     "output_type": "execute_result"
    }
   ],
   "source": [
    "training_data.isnull().sum()"
   ]
  },
  {
   "cell_type": "markdown",
   "metadata": {},
   "source": [
    "(There are no null values)"
   ]
  },
  {
   "cell_type": "code",
   "execution_count": 9,
   "metadata": {
    "collapsed": false
   },
   "outputs": [
    {
     "data": {
      "text/html": [
       "<div>\n",
       "<table border=\"1\" class=\"dataframe\">\n",
       "  <thead>\n",
       "    <tr style=\"text-align: right;\">\n",
       "      <th></th>\n",
       "      <th>feature1</th>\n",
       "      <th>feature2</th>\n",
       "      <th>feature3</th>\n",
       "      <th>feature4</th>\n",
       "      <th>feature5</th>\n",
       "      <th>feature6</th>\n",
       "      <th>feature7</th>\n",
       "      <th>feature8</th>\n",
       "      <th>feature9</th>\n",
       "      <th>feature10</th>\n",
       "      <th>...</th>\n",
       "      <th>feature42</th>\n",
       "      <th>feature43</th>\n",
       "      <th>feature44</th>\n",
       "      <th>feature45</th>\n",
       "      <th>feature46</th>\n",
       "      <th>feature47</th>\n",
       "      <th>feature48</th>\n",
       "      <th>feature49</th>\n",
       "      <th>feature50</th>\n",
       "      <th>target</th>\n",
       "    </tr>\n",
       "  </thead>\n",
       "  <tbody>\n",
       "    <tr>\n",
       "      <th>count</th>\n",
       "      <td>154590.000000</td>\n",
       "      <td>154590.000000</td>\n",
       "      <td>154590.000000</td>\n",
       "      <td>154590.000000</td>\n",
       "      <td>154590.000000</td>\n",
       "      <td>154590.000000</td>\n",
       "      <td>154590.000000</td>\n",
       "      <td>154590.000000</td>\n",
       "      <td>154590.000000</td>\n",
       "      <td>154590.000000</td>\n",
       "      <td>...</td>\n",
       "      <td>154590.000000</td>\n",
       "      <td>154590.000000</td>\n",
       "      <td>154590.000000</td>\n",
       "      <td>154590.000000</td>\n",
       "      <td>154590.000000</td>\n",
       "      <td>154590.000000</td>\n",
       "      <td>154590.000000</td>\n",
       "      <td>154590.000000</td>\n",
       "      <td>154590.000000</td>\n",
       "      <td>154590.000000</td>\n",
       "    </tr>\n",
       "    <tr>\n",
       "      <th>mean</th>\n",
       "      <td>0.478294</td>\n",
       "      <td>0.476526</td>\n",
       "      <td>0.500999</td>\n",
       "      <td>0.475484</td>\n",
       "      <td>0.500958</td>\n",
       "      <td>0.501221</td>\n",
       "      <td>0.491995</td>\n",
       "      <td>0.505129</td>\n",
       "      <td>0.501375</td>\n",
       "      <td>0.519864</td>\n",
       "      <td>...</td>\n",
       "      <td>0.470909</td>\n",
       "      <td>0.508125</td>\n",
       "      <td>0.514216</td>\n",
       "      <td>0.529347</td>\n",
       "      <td>0.499170</td>\n",
       "      <td>0.486765</td>\n",
       "      <td>0.517329</td>\n",
       "      <td>0.523318</td>\n",
       "      <td>0.497905</td>\n",
       "      <td>0.500000</td>\n",
       "    </tr>\n",
       "    <tr>\n",
       "      <th>std</th>\n",
       "      <td>0.157095</td>\n",
       "      <td>0.123368</td>\n",
       "      <td>0.123540</td>\n",
       "      <td>0.154693</td>\n",
       "      <td>0.149872</td>\n",
       "      <td>0.173157</td>\n",
       "      <td>0.141479</td>\n",
       "      <td>0.137477</td>\n",
       "      <td>0.175497</td>\n",
       "      <td>0.154657</td>\n",
       "      <td>...</td>\n",
       "      <td>0.123511</td>\n",
       "      <td>0.171966</td>\n",
       "      <td>0.128383</td>\n",
       "      <td>0.138047</td>\n",
       "      <td>0.167838</td>\n",
       "      <td>0.148882</td>\n",
       "      <td>0.139038</td>\n",
       "      <td>0.115425</td>\n",
       "      <td>0.150144</td>\n",
       "      <td>0.500002</td>\n",
       "    </tr>\n",
       "    <tr>\n",
       "      <th>min</th>\n",
       "      <td>0.000000</td>\n",
       "      <td>0.000000</td>\n",
       "      <td>0.000000</td>\n",
       "      <td>0.012703</td>\n",
       "      <td>0.000000</td>\n",
       "      <td>0.005585</td>\n",
       "      <td>0.007054</td>\n",
       "      <td>0.000000</td>\n",
       "      <td>0.003751</td>\n",
       "      <td>0.000000</td>\n",
       "      <td>...</td>\n",
       "      <td>0.000000</td>\n",
       "      <td>0.000000</td>\n",
       "      <td>0.000000</td>\n",
       "      <td>0.068782</td>\n",
       "      <td>0.000318</td>\n",
       "      <td>0.000000</td>\n",
       "      <td>0.000000</td>\n",
       "      <td>0.000000</td>\n",
       "      <td>0.016648</td>\n",
       "      <td>0.000000</td>\n",
       "    </tr>\n",
       "    <tr>\n",
       "      <th>25%</th>\n",
       "      <td>0.361776</td>\n",
       "      <td>0.390634</td>\n",
       "      <td>0.415782</td>\n",
       "      <td>0.356826</td>\n",
       "      <td>0.388054</td>\n",
       "      <td>0.375580</td>\n",
       "      <td>0.389713</td>\n",
       "      <td>0.406789</td>\n",
       "      <td>0.370777</td>\n",
       "      <td>0.407346</td>\n",
       "      <td>...</td>\n",
       "      <td>0.386400</td>\n",
       "      <td>0.385714</td>\n",
       "      <td>0.426747</td>\n",
       "      <td>0.429371</td>\n",
       "      <td>0.376989</td>\n",
       "      <td>0.380547</td>\n",
       "      <td>0.417359</td>\n",
       "      <td>0.445643</td>\n",
       "      <td>0.393765</td>\n",
       "      <td>0.000000</td>\n",
       "    </tr>\n",
       "    <tr>\n",
       "      <th>50%</th>\n",
       "      <td>0.475544</td>\n",
       "      <td>0.474176</td>\n",
       "      <td>0.502199</td>\n",
       "      <td>0.474957</td>\n",
       "      <td>0.498965</td>\n",
       "      <td>0.502002</td>\n",
       "      <td>0.492147</td>\n",
       "      <td>0.505223</td>\n",
       "      <td>0.504464</td>\n",
       "      <td>0.518148</td>\n",
       "      <td>...</td>\n",
       "      <td>0.469697</td>\n",
       "      <td>0.510579</td>\n",
       "      <td>0.516279</td>\n",
       "      <td>0.530655</td>\n",
       "      <td>0.500633</td>\n",
       "      <td>0.487344</td>\n",
       "      <td>0.517680</td>\n",
       "      <td>0.524450</td>\n",
       "      <td>0.495189</td>\n",
       "      <td>0.500000</td>\n",
       "    </tr>\n",
       "    <tr>\n",
       "      <th>75%</th>\n",
       "      <td>0.592230</td>\n",
       "      <td>0.560374</td>\n",
       "      <td>0.587022</td>\n",
       "      <td>0.595041</td>\n",
       "      <td>0.613519</td>\n",
       "      <td>0.626795</td>\n",
       "      <td>0.593989</td>\n",
       "      <td>0.603770</td>\n",
       "      <td>0.632452</td>\n",
       "      <td>0.633261</td>\n",
       "      <td>...</td>\n",
       "      <td>0.555114</td>\n",
       "      <td>0.632785</td>\n",
       "      <td>0.603954</td>\n",
       "      <td>0.630788</td>\n",
       "      <td>0.622424</td>\n",
       "      <td>0.594643</td>\n",
       "      <td>0.617761</td>\n",
       "      <td>0.602741</td>\n",
       "      <td>0.601751</td>\n",
       "      <td>1.000000</td>\n",
       "    </tr>\n",
       "    <tr>\n",
       "      <th>max</th>\n",
       "      <td>1.000000</td>\n",
       "      <td>1.000000</td>\n",
       "      <td>1.000000</td>\n",
       "      <td>0.976940</td>\n",
       "      <td>1.000000</td>\n",
       "      <td>1.000000</td>\n",
       "      <td>1.000000</td>\n",
       "      <td>1.000000</td>\n",
       "      <td>0.986059</td>\n",
       "      <td>1.000000</td>\n",
       "      <td>...</td>\n",
       "      <td>1.000000</td>\n",
       "      <td>1.000000</td>\n",
       "      <td>0.982282</td>\n",
       "      <td>1.000000</td>\n",
       "      <td>0.994126</td>\n",
       "      <td>0.952434</td>\n",
       "      <td>0.998102</td>\n",
       "      <td>1.000000</td>\n",
       "      <td>1.000000</td>\n",
       "      <td>1.000000</td>\n",
       "    </tr>\n",
       "  </tbody>\n",
       "</table>\n",
       "<p>8 rows × 51 columns</p>\n",
       "</div>"
      ],
      "text/plain": [
       "            feature1       feature2       feature3       feature4  \\\n",
       "count  154590.000000  154590.000000  154590.000000  154590.000000   \n",
       "mean        0.478294       0.476526       0.500999       0.475484   \n",
       "std         0.157095       0.123368       0.123540       0.154693   \n",
       "min         0.000000       0.000000       0.000000       0.012703   \n",
       "25%         0.361776       0.390634       0.415782       0.356826   \n",
       "50%         0.475544       0.474176       0.502199       0.474957   \n",
       "75%         0.592230       0.560374       0.587022       0.595041   \n",
       "max         1.000000       1.000000       1.000000       0.976940   \n",
       "\n",
       "            feature5       feature6       feature7       feature8  \\\n",
       "count  154590.000000  154590.000000  154590.000000  154590.000000   \n",
       "mean        0.500958       0.501221       0.491995       0.505129   \n",
       "std         0.149872       0.173157       0.141479       0.137477   \n",
       "min         0.000000       0.005585       0.007054       0.000000   \n",
       "25%         0.388054       0.375580       0.389713       0.406789   \n",
       "50%         0.498965       0.502002       0.492147       0.505223   \n",
       "75%         0.613519       0.626795       0.593989       0.603770   \n",
       "max         1.000000       1.000000       1.000000       1.000000   \n",
       "\n",
       "            feature9      feature10      ...            feature42  \\\n",
       "count  154590.000000  154590.000000      ...        154590.000000   \n",
       "mean        0.501375       0.519864      ...             0.470909   \n",
       "std         0.175497       0.154657      ...             0.123511   \n",
       "min         0.003751       0.000000      ...             0.000000   \n",
       "25%         0.370777       0.407346      ...             0.386400   \n",
       "50%         0.504464       0.518148      ...             0.469697   \n",
       "75%         0.632452       0.633261      ...             0.555114   \n",
       "max         0.986059       1.000000      ...             1.000000   \n",
       "\n",
       "           feature43      feature44      feature45      feature46  \\\n",
       "count  154590.000000  154590.000000  154590.000000  154590.000000   \n",
       "mean        0.508125       0.514216       0.529347       0.499170   \n",
       "std         0.171966       0.128383       0.138047       0.167838   \n",
       "min         0.000000       0.000000       0.068782       0.000318   \n",
       "25%         0.385714       0.426747       0.429371       0.376989   \n",
       "50%         0.510579       0.516279       0.530655       0.500633   \n",
       "75%         0.632785       0.603954       0.630788       0.622424   \n",
       "max         1.000000       0.982282       1.000000       0.994126   \n",
       "\n",
       "           feature47      feature48      feature49      feature50  \\\n",
       "count  154590.000000  154590.000000  154590.000000  154590.000000   \n",
       "mean        0.486765       0.517329       0.523318       0.497905   \n",
       "std         0.148882       0.139038       0.115425       0.150144   \n",
       "min         0.000000       0.000000       0.000000       0.016648   \n",
       "25%         0.380547       0.417359       0.445643       0.393765   \n",
       "50%         0.487344       0.517680       0.524450       0.495189   \n",
       "75%         0.594643       0.617761       0.602741       0.601751   \n",
       "max         0.952434       0.998102       1.000000       1.000000   \n",
       "\n",
       "              target  \n",
       "count  154590.000000  \n",
       "mean        0.500000  \n",
       "std         0.500002  \n",
       "min         0.000000  \n",
       "25%         0.000000  \n",
       "50%         0.500000  \n",
       "75%         1.000000  \n",
       "max         1.000000  \n",
       "\n",
       "[8 rows x 51 columns]"
      ]
     },
     "execution_count": 9,
     "metadata": {},
     "output_type": "execute_result"
    }
   ],
   "source": [
    "training_data.describe()"
   ]
  },
  {
   "cell_type": "code",
   "execution_count": 10,
   "metadata": {
    "collapsed": false
   },
   "outputs": [
    {
     "data": {
      "text/html": [
       "<div>\n",
       "<table border=\"1\" class=\"dataframe\">\n",
       "  <thead>\n",
       "    <tr style=\"text-align: right;\">\n",
       "      <th></th>\n",
       "      <th>feature1</th>\n",
       "      <th>feature2</th>\n",
       "      <th>feature3</th>\n",
       "      <th>feature4</th>\n",
       "      <th>feature5</th>\n",
       "      <th>feature6</th>\n",
       "      <th>feature7</th>\n",
       "      <th>feature8</th>\n",
       "      <th>feature9</th>\n",
       "      <th>feature10</th>\n",
       "      <th>...</th>\n",
       "      <th>feature42</th>\n",
       "      <th>feature43</th>\n",
       "      <th>feature44</th>\n",
       "      <th>feature45</th>\n",
       "      <th>feature46</th>\n",
       "      <th>feature47</th>\n",
       "      <th>feature48</th>\n",
       "      <th>feature49</th>\n",
       "      <th>feature50</th>\n",
       "      <th>target</th>\n",
       "    </tr>\n",
       "  </thead>\n",
       "  <tbody>\n",
       "    <tr>\n",
       "      <th>0</th>\n",
       "      <td>0.669983</td>\n",
       "      <td>0.606707</td>\n",
       "      <td>0.469412</td>\n",
       "      <td>0.595271</td>\n",
       "      <td>0.741713</td>\n",
       "      <td>0.417073</td>\n",
       "      <td>0.561430</td>\n",
       "      <td>0.324653</td>\n",
       "      <td>0.704061</td>\n",
       "      <td>0.502624</td>\n",
       "      <td>...</td>\n",
       "      <td>0.519823</td>\n",
       "      <td>0.478994</td>\n",
       "      <td>0.736728</td>\n",
       "      <td>0.369075</td>\n",
       "      <td>0.479936</td>\n",
       "      <td>0.397671</td>\n",
       "      <td>0.720823</td>\n",
       "      <td>0.702201</td>\n",
       "      <td>0.602597</td>\n",
       "      <td>0.0</td>\n",
       "    </tr>\n",
       "    <tr>\n",
       "      <th>1</th>\n",
       "      <td>0.423738</td>\n",
       "      <td>0.490330</td>\n",
       "      <td>0.657167</td>\n",
       "      <td>0.736777</td>\n",
       "      <td>0.691753</td>\n",
       "      <td>0.436127</td>\n",
       "      <td>0.300617</td>\n",
       "      <td>0.489396</td>\n",
       "      <td>0.306399</td>\n",
       "      <td>0.535077</td>\n",
       "      <td>...</td>\n",
       "      <td>0.440106</td>\n",
       "      <td>0.426703</td>\n",
       "      <td>0.574189</td>\n",
       "      <td>0.346468</td>\n",
       "      <td>0.343980</td>\n",
       "      <td>0.474260</td>\n",
       "      <td>0.428665</td>\n",
       "      <td>0.335968</td>\n",
       "      <td>0.730946</td>\n",
       "      <td>1.0</td>\n",
       "    </tr>\n",
       "    <tr>\n",
       "      <th>2</th>\n",
       "      <td>0.534508</td>\n",
       "      <td>0.400015</td>\n",
       "      <td>0.639162</td>\n",
       "      <td>0.291071</td>\n",
       "      <td>0.558840</td>\n",
       "      <td>0.329052</td>\n",
       "      <td>0.537307</td>\n",
       "      <td>0.626506</td>\n",
       "      <td>0.654038</td>\n",
       "      <td>0.597836</td>\n",
       "      <td>...</td>\n",
       "      <td>0.385293</td>\n",
       "      <td>0.559012</td>\n",
       "      <td>0.337409</td>\n",
       "      <td>0.468161</td>\n",
       "      <td>0.611827</td>\n",
       "      <td>0.664968</td>\n",
       "      <td>0.507076</td>\n",
       "      <td>0.510771</td>\n",
       "      <td>0.453142</td>\n",
       "      <td>0.0</td>\n",
       "    </tr>\n",
       "    <tr>\n",
       "      <th>3</th>\n",
       "      <td>0.319360</td>\n",
       "      <td>0.517777</td>\n",
       "      <td>0.678197</td>\n",
       "      <td>0.401231</td>\n",
       "      <td>0.532407</td>\n",
       "      <td>0.675572</td>\n",
       "      <td>0.258192</td>\n",
       "      <td>0.512199</td>\n",
       "      <td>0.665457</td>\n",
       "      <td>0.360911</td>\n",
       "      <td>...</td>\n",
       "      <td>0.517044</td>\n",
       "      <td>0.662995</td>\n",
       "      <td>0.498866</td>\n",
       "      <td>0.367217</td>\n",
       "      <td>0.647416</td>\n",
       "      <td>0.687651</td>\n",
       "      <td>0.432818</td>\n",
       "      <td>0.431098</td>\n",
       "      <td>0.511964</td>\n",
       "      <td>0.0</td>\n",
       "    </tr>\n",
       "    <tr>\n",
       "      <th>4</th>\n",
       "      <td>0.430825</td>\n",
       "      <td>0.566239</td>\n",
       "      <td>0.547052</td>\n",
       "      <td>0.403674</td>\n",
       "      <td>0.432194</td>\n",
       "      <td>0.559786</td>\n",
       "      <td>0.397768</td>\n",
       "      <td>0.781507</td>\n",
       "      <td>0.622683</td>\n",
       "      <td>0.540712</td>\n",
       "      <td>...</td>\n",
       "      <td>0.364794</td>\n",
       "      <td>0.540689</td>\n",
       "      <td>0.537306</td>\n",
       "      <td>0.352633</td>\n",
       "      <td>0.542871</td>\n",
       "      <td>0.664388</td>\n",
       "      <td>0.627091</td>\n",
       "      <td>0.397574</td>\n",
       "      <td>0.595706</td>\n",
       "      <td>0.0</td>\n",
       "    </tr>\n",
       "  </tbody>\n",
       "</table>\n",
       "<p>5 rows × 51 columns</p>\n",
       "</div>"
      ],
      "text/plain": [
       "   feature1  feature2  feature3  feature4  feature5  feature6  feature7  \\\n",
       "0  0.669983  0.606707  0.469412  0.595271  0.741713  0.417073  0.561430   \n",
       "1  0.423738  0.490330  0.657167  0.736777  0.691753  0.436127  0.300617   \n",
       "2  0.534508  0.400015  0.639162  0.291071  0.558840  0.329052  0.537307   \n",
       "3  0.319360  0.517777  0.678197  0.401231  0.532407  0.675572  0.258192   \n",
       "4  0.430825  0.566239  0.547052  0.403674  0.432194  0.559786  0.397768   \n",
       "\n",
       "   feature8  feature9  feature10   ...    feature42  feature43  feature44  \\\n",
       "0  0.324653  0.704061   0.502624   ...     0.519823   0.478994   0.736728   \n",
       "1  0.489396  0.306399   0.535077   ...     0.440106   0.426703   0.574189   \n",
       "2  0.626506  0.654038   0.597836   ...     0.385293   0.559012   0.337409   \n",
       "3  0.512199  0.665457   0.360911   ...     0.517044   0.662995   0.498866   \n",
       "4  0.781507  0.622683   0.540712   ...     0.364794   0.540689   0.537306   \n",
       "\n",
       "   feature45  feature46  feature47  feature48  feature49  feature50  target  \n",
       "0   0.369075   0.479936   0.397671   0.720823   0.702201   0.602597     0.0  \n",
       "1   0.346468   0.343980   0.474260   0.428665   0.335968   0.730946     1.0  \n",
       "2   0.468161   0.611827   0.664968   0.507076   0.510771   0.453142     0.0  \n",
       "3   0.367217   0.647416   0.687651   0.432818   0.431098   0.511964     0.0  \n",
       "4   0.352633   0.542871   0.664388   0.627091   0.397574   0.595706     0.0  \n",
       "\n",
       "[5 rows x 51 columns]"
      ]
     },
     "execution_count": 10,
     "metadata": {},
     "output_type": "execute_result"
    }
   ],
   "source": [
    "training_data.head(5)"
   ]
  },
  {
   "cell_type": "markdown",
   "metadata": {},
   "source": [
    "# Data Description   \n",
    "   - The training data has 154,590 entries (rows). There are 50 features (columns) per entry, and there is a \"target\" column. We use this dataset to train the machine learning algorithm. \n",
    "   - Each feature represents an encrypted piece of information regarding the particular entry. However, we are never told what that information is - therefore, this dataset ensures that there is no bias towards certain features and that it is purely a mathematical problem. \n",
    "   - The final column, 'target' is the binary class we are trying to predict. "
   ]
  },
  {
   "cell_type": "code",
   "execution_count": 11,
   "metadata": {
    "collapsed": false,
    "scrolled": true
   },
   "outputs": [
    {
     "data": {
      "text/plain": [
       "1.0    77295\n",
       "0.0    77295\n",
       "Name: target, dtype: int64"
      ]
     },
     "execution_count": 11,
     "metadata": {},
     "output_type": "execute_result"
    }
   ],
   "source": [
    "training_data.target.value_counts()"
   ]
  },
  {
   "cell_type": "markdown",
   "metadata": {},
   "source": [
    "The mean for target variable is exactly 0.5 with half of the values being equal to 1, and the other half to 0.\n",
    "\n",
    "\n",
    "Numerai wants to provide Data Scientists with datasets as clean as possible so that their focus is purely on the mathematical problem ahead. Therefore, there is little data cleaning process involved. The data is already standardised, there are no null values, and they're neatly organized."
   ]
  },
  {
   "cell_type": "markdown",
   "metadata": {},
   "source": [
    "## Data Analysis"
   ]
  },
  {
   "cell_type": "code",
   "execution_count": 12,
   "metadata": {
    "collapsed": false
   },
   "outputs": [
    {
     "data": {
      "image/png": "[encoded data removed]",
      "text/plain": [
       "<matplotlib.figure.Figure at 0x110cc6210>"
      ]
     },
     "metadata": {},
     "output_type": "display_data"
    }
   ],
   "source": [
    "ax = plt.subplots(figsize=(12, 9))\n",
    "sns.heatmap(training_data.corr(), vmax = 0.75 , square=True)\n",
    "plt.show()\n",
    "\n"
   ]
  },
  {
   "cell_type": "markdown",
   "metadata": {},
   "source": [
    "There is some correlation (both strongly positive and negative) between features, however as we can see from the last column - there is no correlation (0) between any of the features and the target variable. "
   ]
  },
  {
   "cell_type": "code",
   "execution_count": 13,
   "metadata": {
    "collapsed": false
   },
   "outputs": [
    {
     "data": {
      "image/png": "[encoded data removed]",
      "text/plain": [
       "<matplotlib.figure.Figure at 0x112c9e210>"
      ]
     },
     "metadata": {},
     "output_type": "display_data"
    }
   ],
   "source": [
    "ax = plt.subplots(figsize=(12, 9))\n",
    "sns.boxplot(data=training_data, orient='h',\n",
    "            fliersize=2, linewidth=3, notch=True, \n",
    "            saturation=0.5)\n",
    "\n",
    "plt.show()"
   ]
  },
  {
   "cell_type": "markdown",
   "metadata": {
    "collapsed": false
   },
   "source": [
    " - The greatures all have means and medians close to 0.5, with most having a min or max at 0 or 1"
   ]
  },
  {
   "cell_type": "code",
   "execution_count": 14,
   "metadata": {
    "collapsed": false
   },
   "outputs": [
    {
     "name": "stdout",
     "output_type": "stream",
     "text": [
      "Mean 1: 0.478293957552\n",
      "Median 1: 0.475544\n",
      " \n",
      "Mean 2: 0.476526381933\n",
      "Median 2: 0.4741755\n",
      " \n",
      "Mean 3: 0.500998685614\n",
      "Median 3: 0.5021995\n",
      " \n",
      "Mean 4: 0.475484127841\n",
      "Median 4: 0.4749575\n",
      " \n",
      "Mean 5: 0.500957964577\n",
      "Median 5: 0.498965\n",
      " \n",
      "Mean 6: 0.501221499347\n",
      "Median 6: 0.502002\n",
      "...\n"
     ]
    }
   ],
   "source": [
    "print \"Mean 1:\" , training_data['feature1'].mean()\n",
    "print \"Median 1:\" , training_data['feature1'].median()\n",
    "print \" \"\n",
    "print \"Mean 2:\" , training_data['feature2'].mean()\n",
    "print \"Median 2:\" , training_data['feature2'].median()\n",
    "print \" \"\n",
    "print \"Mean 3:\" , training_data['feature3'].mean()\n",
    "print \"Median 3:\" , training_data['feature3'].median()\n",
    "print \" \"\n",
    "print \"Mean 4:\" , training_data['feature4'].mean()\n",
    "print \"Median 4:\" , training_data['feature4'].median()\n",
    "print \" \"\n",
    "print \"Mean 5:\" , training_data['feature5'].mean()\n",
    "print \"Median 5:\" , training_data['feature5'].median()\n",
    "print \" \"\n",
    "print \"Mean 6:\" , training_data['feature6'].mean()\n",
    "print \"Median 6:\" , training_data['feature6'].median()\n",
    "\n",
    "print\"...\""
   ]
  },
  {
   "cell_type": "markdown",
   "metadata": {
    "collapsed": false
   },
   "source": [
    "The Mean & Median are approximately equal to each other."
   ]
  },
  {
   "cell_type": "code",
   "execution_count": 15,
   "metadata": {
    "collapsed": false
   },
   "outputs": [
    {
     "data": {
      "image/png": "[encoded data removed]",
      "text/plain": [
       "<matplotlib.figure.Figure at 0x111638750>"
      ]
     },
     "metadata": {},
     "output_type": "display_data"
    }
   ],
   "source": [
    "ax = plt.subplots(figsize=(12, 9))\n",
    "training_data['feature1'].plot(kind='hist', normed=True, bins=1000)\n",
    "\n",
    "plt.show()"
   ]
  },
  {
   "cell_type": "code",
   "execution_count": 16,
   "metadata": {
    "collapsed": false
   },
   "outputs": [
    {
     "data": {
      "image/png": "[encoded data removed]",
      "text/plain": [
       "<matplotlib.figure.Figure at 0x112bf7a90>"
      ]
     },
     "metadata": {},
     "output_type": "display_data"
    }
   ],
   "source": [
    "ax = plt.subplots(figsize=(12, 9))\n",
    "training_data['feature2'].plot(kind='hist', normed=True, bins=1000)\n",
    "\n",
    "plt.show()"
   ]
  },
  {
   "cell_type": "markdown",
   "metadata": {},
   "source": [
    "# Modelling"
   ]
  },
  {
   "cell_type": "markdown",
   "metadata": {},
   "source": [
    "- We first want to create X and y variables\n",
    "- The Y (target) variable is the \"target\" variable. It is evenly split between 0 and 1. "
   ]
  },
  {
   "cell_type": "code",
   "execution_count": 17,
   "metadata": {
    "collapsed": false
   },
   "outputs": [
    {
     "data": {
      "image/png": "[encoded data removed]",
      "text/plain": [
       "<matplotlib.figure.Figure at 0x1128b7510>"
      ]
     },
     "metadata": {},
     "output_type": "display_data"
    }
   ],
   "source": [
    "plt.figure(figsize = (6, 4))\n",
    "sns.countplot(x=\"target\", data=training_data)\n",
    "plt.xlabel(\"\")\n",
    "plt.title(\"Binary Target\")\n",
    "plt.show()"
   ]
  },
  {
   "cell_type": "code",
   "execution_count": 18,
   "metadata": {
    "collapsed": false
   },
   "outputs": [],
   "source": [
    "y = training_data['target']"
   ]
  },
  {
   "cell_type": "code",
   "execution_count": 19,
   "metadata": {
    "collapsed": true
   },
   "outputs": [],
   "source": [
    "X = training_data.drop([ 'target'], axis = 1)"
   ]
  },
  {
   "cell_type": "code",
   "execution_count": 20,
   "metadata": {
    "collapsed": false
   },
   "outputs": [
    {
     "data": {
      "text/plain": [
       "0.5"
      ]
     },
     "execution_count": 20,
     "metadata": {},
     "output_type": "execute_result"
    }
   ],
   "source": [
    "training_data.target.mean()"
   ]
  },
  {
   "cell_type": "code",
   "execution_count": 21,
   "metadata": {
    "collapsed": false
   },
   "outputs": [
    {
     "name": "stdout",
     "output_type": "stream",
     "text": [
      "Baseline accuracy: 0.5\n"
     ]
    }
   ],
   "source": [
    "#Given equal value counts, our baseline accuracy will be the mean\n",
    "print \"Baseline accuracy:\", training_data.target.mean()"
   ]
  },
  {
   "cell_type": "markdown",
   "metadata": {
    "collapsed": false
   },
   "source": [
    "Once we have our X and y variables, we next want to split the data into test and train sets. \n",
    " 1. The major purpose of validation is to avoid overfitting. Overfitting occurs when a machine learning algorithm, such as a classifier, identifies not only the signal in a dataset, but the noise as well. \n",
    " 2. Noise here means the model is too sensitive to features of the dataset that don’t really mean anything. The practical outcome of overfitting is that a classifier which appears to perform well on its training data may perform poorly, possibly very badly, on new data from the same problem.\n",
    "\n",
    "To develop our classifier, we split our dataset into two using 70 percent of the data to train the algorithm. We then run the classifier on the remaining 30 percent, so far unseen, and record these results. "
   ]
  },
  {
   "cell_type": "code",
   "execution_count": 22,
   "metadata": {
    "collapsed": false
   },
   "outputs": [],
   "source": [
    "# splitting my arrays in ratio of 30:70 percent\n",
    "X_train, X_test, y_train, y_test = train_test_split(X, y, test_size=0.3, random_state=0)"
   ]
  },
  {
   "cell_type": "markdown",
   "metadata": {},
   "source": [
    "- \"train_test_split\" takes an array of our training data which includes the features train excluding our target value, followed by an array of our target value.\n",
    "\n",
    "- \"test_size\" is our 30 percent ratio of the data.\n",
    "\n",
    "- \"random_state\" takes an integer value of a pseudo-random number generator state used for random sampling."
   ]
  },
  {
   "cell_type": "markdown",
   "metadata": {
    "collapsed": false
   },
   "source": [
    "## Logistic Regression\n",
    "\n",
    "-The next step is to use the train/test data and run a simple Logistic Regression"
   ]
  },
  {
   "cell_type": "code",
   "execution_count": 46,
   "metadata": {
    "collapsed": false
   },
   "outputs": [
    {
     "name": "stdout",
     "output_type": "stream",
     "text": [
      "[ 0.51862872  0.52199224  0.52166882  0.52380336  0.51901682  0.51740199\n",
      "  0.5249062   0.52121879  0.52542373  0.51992496]\n",
      "0.521398562428\n"
     ]
    }
   ],
   "source": [
    "Xs = StandardScaler().fit_transform(X) \n",
    "#already scale, wouldnt fit_transform again. usually you would, but in this case data is already standardised\n",
    "\n",
    "scores = cross_val_score(LogisticRegression(), Xs, y, cv=10)\n",
    "print scores\n",
    "print np.mean(scores)"
   ]
  },
  {
   "cell_type": "markdown",
   "metadata": {},
   "source": [
    "- Cross-validation is primarily a way of measuring the predictive performance of a statistical model to an independent data set."
   ]
  },
  {
   "cell_type": "markdown",
   "metadata": {},
   "source": [
    "#### Feature importance"
   ]
  },
  {
   "cell_type": "code",
   "execution_count": 47,
   "metadata": {
    "collapsed": false
   },
   "outputs": [
    {
     "data": {
      "image/png": "[encoded data removed]",
      "text/plain": [
       "<matplotlib.figure.Figure at 0x111065b50>"
      ]
     },
     "metadata": {},
     "output_type": "display_data"
    }
   ],
   "source": [
    "lg = LogisticRegression(C=1000)\n",
    "lg.fit(X, y) # Fit model to look at model coefficients \n",
    "\n",
    "importances = lg.coef_ # feature importance\n",
    "indices = np.argsort(np.absolute(importances))# sort importance\n",
    "\n",
    "# Plot the feature importances\n",
    "plt.figure(figsize = (16, 6))\n",
    "plt.title(\"Feature importances\", fontsize = 15)\n",
    "plt.bar(np.arange(0,X.shape[1]), importances[0][indices][0][::-1], align=\"center\")\n",
    "plt.ylabel('Feature Coefficient')\n",
    "plt.xticks(np.arange(X.shape[1]), X.columns[indices][0][::-1], rotation=90)\n",
    "plt.xlim([-1, X.shape[1]])\n",
    "plt.show()"
   ]
  },
  {
   "cell_type": "markdown",
   "metadata": {},
   "source": [
    "Features 19, 28 & 33 are the most relevant with target being 1 (a 'buy' recomendation) while features 9, 38 and 4 are least relevant to being 1 (and therefore 0, 'not buy'). "
   ]
  },
  {
   "cell_type": "code",
   "execution_count": 48,
   "metadata": {
    "collapsed": false
   },
   "outputs": [
    {
     "name": "stdout",
     "output_type": "stream",
     "text": [
      "Cross-validated accuracy score: 0.522910463143\n"
     ]
    }
   ],
   "source": [
    "#Cross-validated score\n",
    "y_hat_CV = cross_val_predict(lg, X_test, y_test, cv=5)\n",
    "CV_score = np.mean(cross_val_score(lg, X_test, y_test, cv=5))\n",
    "print 'Cross-validated accuracy score:', CV_score"
   ]
  },
  {
   "cell_type": "code",
   "execution_count": 49,
   "metadata": {
    "collapsed": false
   },
   "outputs": [
    {
     "name": "stdout",
     "output_type": "stream",
     "text": [
      "Accuracy score: 0.521120382948\n"
     ]
    }
   ],
   "source": [
    "#Accuracy score for test set\n",
    "y_hat = lg.predict(X_test)\n",
    "score = accuracy_score(y_test, y_hat)\n",
    "print 'Accuracy score:', score"
   ]
  },
  {
   "cell_type": "markdown",
   "metadata": {},
   "source": [
    "The CV and Accuracy scores are similar, and higher than the baseline model (0.5). "
   ]
  },
  {
   "cell_type": "code",
   "execution_count": 50,
   "metadata": {
    "collapsed": false
   },
   "outputs": [
    {
     "name": "stdout",
     "output_type": "stream",
     "text": [
      "Classification report:\n",
      "             precision    recall  f1-score   support\n",
      "\n",
      "        0.0       0.52      0.53      0.53     23251\n",
      "        1.0       0.52      0.52      0.52     23126\n",
      "\n",
      "avg / total       0.52      0.52      0.52     46377\n",
      "\n"
     ]
    }
   ],
   "source": [
    "print \"Classification report:\"  \n",
    "print classification_report(y_test, y_hat_CV)"
   ]
  },
  {
   "cell_type": "code",
   "execution_count": 51,
   "metadata": {
    "collapsed": false
   },
   "outputs": [],
   "source": [
    "cnf_matrix = (confusion_matrix(y_test, y_hat_CV))"
   ]
  },
  {
   "cell_type": "code",
   "execution_count": 52,
   "metadata": {
    "collapsed": false
   },
   "outputs": [
    {
     "data": {
      "image/png": "[encoded data removed]",
      "text/plain": [
       "<matplotlib.figure.Figure at 0x111211890>"
      ]
     },
     "metadata": {},
     "output_type": "display_data"
    }
   ],
   "source": [
    "def plot_confusion_matrix(cm, classes, title='Confusion matrix', cmap=plt.cm.Blues):\n",
    "    plt.imshow(cm, interpolation='nearest', cmap=cmap)\n",
    "    plt.title(title)\n",
    "    plt.colorbar()\n",
    "    tick_marks = np.arange(len(classes))\n",
    "    plt.xticks(tick_marks, classes, rotation=45)\n",
    "    plt.yticks(tick_marks, classes)\n",
    "    thresh = cm.max() / 2.\n",
    "    for i, j in itertools.product(range(cm.shape[0]), range(cm.shape[1])):\n",
    "        plt.text(j, i, cm[i, j],\n",
    "                 horizontalalignment=\"center\",\n",
    "                 color=\"red\" if cm[i, j] > thresh else \"black\")\n",
    "    plt.ylabel('True label')\n",
    "    plt.xlabel('Predicted label')\n",
    "    plt.show()\n",
    "\n",
    "# Plot confusion matrix\n",
    "plot_confusion_matrix(cnf_matrix, classes=lg.classes_)"
   ]
  },
  {
   "cell_type": "code",
   "execution_count": 53,
   "metadata": {
    "collapsed": false
   },
   "outputs": [
    {
     "data": {
      "image/png": "[encoded data removed]",
      "text/plain": [
       "<matplotlib.figure.Figure at 0x11127a990>"
      ]
     },
     "metadata": {},
     "output_type": "display_data"
    }
   ],
   "source": [
    "Y_score = lg.decision_function(X_test)\n",
    "FPR, TPR, THR = roc_curve(y_test, Y_score)\n",
    "ROC_AUC = auc(FPR, TPR)\n",
    "\n",
    "plt.plot(FPR, TPR, label='ROC curve (area = %0.2f)' % ROC_AUC, linewidth=4)\n",
    "plt.plot([0, 1], [0, 1], 'k--', linewidth=4)\n",
    "plt.xlim([0.0, 1.0])\n",
    "plt.ylim([0.0, 1.05])\n",
    "plt.xlabel('False Positive Rate (1-specificity)', fontsize=18)\n",
    "plt.ylabel('True Positive Rate (sensitivity)', fontsize=18)\n",
    "plt.title('ROC curve for Target', fontsize=18)\n",
    "plt.legend(loc=\"lower right\")\n",
    "plt.show()"
   ]
  },
  {
   "cell_type": "code",
   "execution_count": 54,
   "metadata": {
    "collapsed": true
   },
   "outputs": [],
   "source": [
    "def plot_learning_curve(estimator, title, X, y, ylim=None, cv=None,\n",
    "                        n_jobs=1, train_sizes=np.linspace(.1, 1.0, 20)):\n",
    "\n",
    "    plt.figure()\n",
    "    plt.title(title)\n",
    "    if ylim is not None:\n",
    "        plt.ylim(*ylim)\n",
    "    plt.xlabel(\"Training examples\")\n",
    "    plt.ylabel(\"Accuracy Score\")\n",
    "    train_sizes, train_scores, test_scores = learning_curve(\n",
    "        estimator, X, y, cv=cv, n_jobs=n_jobs, train_sizes=train_sizes, scoring= 'accuracy')\n",
    "    train_scores_mean = np.mean(train_scores, axis=1)\n",
    "    train_scores_std = np.std(train_scores, axis=1)\n",
    "    test_scores_mean = np.mean(test_scores, axis=1)\n",
    "    test_scores_std = np.std(test_scores, axis=1)\n",
    "    plt.grid(color='w')\n",
    "\n",
    "    plt.fill_between(train_sizes, train_scores_mean - train_scores_std,\n",
    "                     train_scores_mean + train_scores_std, alpha=0.1,\n",
    "                     color=\"r\")\n",
    "    plt.fill_between(train_sizes, test_scores_mean - test_scores_std,\n",
    "                     test_scores_mean + test_scores_std, alpha=0.1, color=\"g\")\n",
    "    plt.plot(train_sizes, train_scores_mean, 'o-', color=\"r\",\n",
    "             label=\"Training score\")\n",
    "    plt.plot(train_sizes, test_scores_mean, 'o-', color=\"g\",\n",
    "             label=\"Cross-validation score\")\n",
    "\n",
    "    plt.legend(loc=\"best\")\n",
    "    return plt"
   ]
  },
  {
   "cell_type": "code",
   "execution_count": 28,
   "metadata": {
    "collapsed": false
   },
   "outputs": [
    {
     "data": {
      "image/png": "[encoded data removed]",
      "text/plain": [
       "<matplotlib.figure.Figure at 0x11380a050>"
      ]
     },
     "metadata": {},
     "output_type": "display_data"
    }
   ],
   "source": [
    "plot_learning_curve(lg, title = \"Logistic Regression learning curve\", X=X, y=y, cv=5)\n",
    "plt.show()"
   ]
  },
  {
   "cell_type": "markdown",
   "metadata": {},
   "source": [
    "# KNN"
   ]
  },
  {
   "cell_type": "code",
   "execution_count": 29,
   "metadata": {
    "collapsed": false
   },
   "outputs": [
    {
     "data": {
      "text/plain": [
       "KNeighborsClassifier(algorithm='auto', leaf_size=30, metric='minkowski',\n",
       "           metric_params=None, n_jobs=1, n_neighbors=5, p=2,\n",
       "           weights='uniform')"
      ]
     },
     "execution_count": 29,
     "metadata": {},
     "output_type": "execute_result"
    }
   ],
   "source": [
    "knn = KNeighborsClassifier(n_neighbors = 5)\n",
    "knn.fit(X_train, y_train)"
   ]
  },
  {
   "cell_type": "code",
   "execution_count": 30,
   "metadata": {
    "collapsed": false
   },
   "outputs": [
    {
     "name": "stdout",
     "output_type": "stream",
     "text": [
      "Accuracy score: 0.636242102766\n"
     ]
    }
   ],
   "source": [
    "y_hat_knn = knn.predict(X_test)\n",
    "score = accuracy_score(y_test, y_hat_knn)\n",
    "print 'Accuracy score:', score\n",
    "#Accuracy score for test set"
   ]
  },
  {
   "cell_type": "code",
   "execution_count": 31,
   "metadata": {
    "collapsed": false
   },
   "outputs": [
    {
     "name": "stdout",
     "output_type": "stream",
     "text": [
      "Cross-validated accuracy score: 0.558509904941\n"
     ]
    }
   ],
   "source": [
    "#Cross-validated score\n",
    "y_hat_CV_knn = cross_val_predict(knn, X_test, y_test, cv=5)\n",
    "CV_score_knn = np.mean(cross_val_score(knn, X_test, y_test, cv=5))\n",
    "print 'Cross-validated accuracy score:', CV_score_knn"
   ]
  },
  {
   "cell_type": "code",
   "execution_count": 32,
   "metadata": {
    "collapsed": false
   },
   "outputs": [
    {
     "name": "stdout",
     "output_type": "stream",
     "text": [
      "Classification report:\n",
      "             precision    recall  f1-score   support\n",
      "\n",
      "        0.0       0.56      0.56      0.56     23251\n",
      "        1.0       0.56      0.56      0.56     23126\n",
      "\n",
      "avg / total       0.56      0.56      0.56     46377\n",
      "\n"
     ]
    }
   ],
   "source": [
    "print \"Classification report:\"\n",
    "print classification_report(y_test, y_hat_CV_knn)"
   ]
  },
  {
   "cell_type": "code",
   "execution_count": 33,
   "metadata": {
    "collapsed": false
   },
   "outputs": [
    {
     "data": {
      "image/png": "[encoded data removed]",
      "text/plain": [
       "<matplotlib.figure.Figure at 0x112b2a310>"
      ]
     },
     "metadata": {},
     "output_type": "display_data"
    }
   ],
   "source": [
    "conf_matrix_knn5 = (confusion_matrix(y_test, y_hat_CV_knn))\n",
    "plot_confusion_matrix(conf_matrix_knn5, [0,1], \"Confusion matrix - KNN-5\", cmap=plt.cm.Blues)"
   ]
  },
  {
   "cell_type": "code",
   "execution_count": 34,
   "metadata": {
    "collapsed": false
   },
   "outputs": [
    {
     "data": {
      "image/png": "[encoded data removed]",
      "text/plain": [
       "<matplotlib.figure.Figure at 0x11429b790>"
      ]
     },
     "metadata": {},
     "output_type": "display_data"
    }
   ],
   "source": [
    "#Plotting ROC for KNN-5\n",
    "probs = knn.predict_proba(X_test)\n",
    "Y_score_knn5 = probs[:,1]\n",
    "\n",
    "FPR, TPR, THR = roc_curve(y_test, Y_score_knn5)\n",
    "ROC_AUC = auc(FPR, TPR)\n",
    "\n",
    "plt.plot(FPR, TPR, label='ROC curve (area = %0.2f)' % ROC_AUC, linewidth=4)\n",
    "plt.plot([0, 1], [0, 1], 'k--', linewidth=4)\n",
    "plt.xlim([0.0, 1.0])\n",
    "plt.ylim([0.0, 1.05])\n",
    "plt.xlabel('False Positive Rate (1-specificity)', fontsize=12)\n",
    "plt.ylabel('True Positive Rate (sensitivity)', fontsize=12)\n",
    "plt.title(\"ROC Curve - KNN-5\", fontsize=14)\n",
    "plt.legend(loc=\"lower right\")\n",
    "plt.show()"
   ]
  },
  {
   "cell_type": "markdown",
   "metadata": {
    "collapsed": true
   },
   "source": [
    "_________________"
   ]
  },
  {
   "cell_type": "markdown",
   "metadata": {
    "collapsed": false
   },
   "source": [
    "# Random Forest"
   ]
  },
  {
   "cell_type": "code",
   "execution_count": 45,
   "metadata": {
    "collapsed": false
   },
   "outputs": [],
   "source": [
    "rfc= RandomForestClassifier(n_estimators=25, random_state=0).fit(X_train, y_train)"
   ]
  },
  {
   "cell_type": "code",
   "execution_count": 46,
   "metadata": {
    "collapsed": true
   },
   "outputs": [],
   "source": [
    "y_hat_rf = rfc.predict(X_test)\n",
    "rf_proba = rfc.predict_proba(X_test)"
   ]
  },
  {
   "cell_type": "code",
   "execution_count": 47,
   "metadata": {
    "collapsed": false
   },
   "outputs": [
    {
     "name": "stdout",
     "output_type": "stream",
     "text": [
      "Accuracy score: 0.570498307351\n"
     ]
    }
   ],
   "source": [
    "score = accuracy_score(y_test, y_hat_rf)\n",
    "print 'Accuracy score:', score"
   ]
  },
  {
   "cell_type": "code",
   "execution_count": 48,
   "metadata": {
    "collapsed": false
   },
   "outputs": [
    {
     "name": "stdout",
     "output_type": "stream",
     "text": [
      "Cross-validated accuracy score: 0.534920238342\n",
      "Classification report\n",
      "             precision    recall  f1-score   support\n",
      "\n",
      "        0.0       0.53      0.53      0.53     23078\n",
      "        1.0       0.54      0.54      0.54     23299\n",
      "\n",
      "avg / total       0.53      0.53      0.53     46377\n",
      "\n"
     ]
    }
   ],
   "source": [
    "#Cross-validated score\n",
    "y_hat_CV_rf = cross_val_predict(rfc, X_test, y_test, cv=5)\n",
    "CV_score_rf = np.mean(cross_val_score(rfc, X_test, y_test, cv=5))\n",
    "print 'Cross-validated accuracy score:', CV_score_rf\n",
    "print 'Classification report'\n",
    "print(classification_report(y_test,y_hat_CV_rf))"
   ]
  },
  {
   "cell_type": "code",
   "execution_count": 49,
   "metadata": {
    "collapsed": false
   },
   "outputs": [
    {
     "data": {
      "image/png": "[encoded data removed]",
      "text/plain": [
       "<matplotlib.figure.Figure at 0x129d22a90>"
      ]
     },
     "metadata": {},
     "output_type": "display_data"
    }
   ],
   "source": [
    "conf_matrix_cv_rf = (confusion_matrix(y_test, y_hat_CV_rf))\n",
    "plot_confusion_matrix(conf_matrix_cv_rf, [0,1], \"Confusion matrix - Gridsearch k-Nearest Neighbours\", cmap=plt.cm.Blues)"
   ]
  },
  {
   "cell_type": "code",
   "execution_count": 50,
   "metadata": {
    "collapsed": false
   },
   "outputs": [
    {
     "data": {
      "image/png": "[encoded data removed]",
      "text/plain": [
       "<matplotlib.figure.Figure at 0x129d04310>"
      ]
     },
     "metadata": {},
     "output_type": "display_data"
    }
   ],
   "source": [
    "#Plotting ROC for RF\n",
    "probs_rf = rf_proba\n",
    "Y_score_rf = probs_rf[:,1]\n",
    "\n",
    "FPR, TPR, THR = roc_curve(y_test, Y_score_rf)\n",
    "ROC_AUC = auc(FPR, TPR)\n",
    "\n",
    "plt.plot(FPR, TPR, label='ROC curve (area = %0.2f)' % ROC_AUC, linewidth=4)\n",
    "plt.plot([0, 1], [0, 1], 'k--', linewidth=4)\n",
    "plt.xlim([0.0, 1.0])\n",
    "plt.ylim([0.0, 1.05])\n",
    "plt.xlabel('False Positive Rate (1-specificity)', fontsize=12)\n",
    "plt.ylabel('True Positive Rate (sensitivity)', fontsize=12)\n",
    "plt.title(\"ROC Curve - Random Forest\", fontsize=14)\n",
    "plt.legend(loc=\"lower right\")\n",
    "plt.show()"
   ]
  },
  {
   "cell_type": "code",
   "execution_count": 51,
   "metadata": {
    "collapsed": false,
    "scrolled": true
   },
   "outputs": [
    {
     "data": {
      "image/png": "[encoded data removed]",
      "text/plain": [
       "<matplotlib.figure.Figure at 0x115d5b7d0>"
      ]
     },
     "metadata": {},
     "output_type": "display_data"
    }
   ],
   "source": [
    "plot_learning_curve(rfc, title = \"Random Forest learning curve\", X=X, y=y, cv=5)\n",
    "plt.show()"
   ]
  },
  {
   "cell_type": "code",
   "execution_count": 66,
   "metadata": {
    "collapsed": false
   },
   "outputs": [
    {
     "data": {
      "text/html": [
       "<div>\n",
       "<table border=\"1\" class=\"dataframe\">\n",
       "  <thead>\n",
       "    <tr style=\"text-align: right;\">\n",
       "      <th></th>\n",
       "      <th>Model</th>\n",
       "      <th>Accuracy</th>\n",
       "      <th>Precision</th>\n",
       "      <th>Recall</th>\n",
       "    </tr>\n",
       "  </thead>\n",
       "  <tbody>\n",
       "    <tr>\n",
       "      <th>0</th>\n",
       "      <td>Logit Regression CV</td>\n",
       "      <td>0.5229</td>\n",
       "      <td>0.52</td>\n",
       "      <td>0.52</td>\n",
       "    </tr>\n",
       "    <tr>\n",
       "      <th>1</th>\n",
       "      <td>KNN-5 CV</td>\n",
       "      <td>0.5585</td>\n",
       "      <td>0.56</td>\n",
       "      <td>0.56</td>\n",
       "    </tr>\n",
       "    <tr>\n",
       "      <th>2</th>\n",
       "      <td>Random Forest CV</td>\n",
       "      <td>0.5349</td>\n",
       "      <td>0.54</td>\n",
       "      <td>0.54</td>\n",
       "    </tr>\n",
       "  </tbody>\n",
       "</table>\n",
       "</div>"
      ],
      "text/plain": [
       "                 Model  Accuracy  Precision  Recall\n",
       "0  Logit Regression CV    0.5229       0.52    0.52\n",
       "1             KNN-5 CV    0.5585       0.56    0.56\n",
       "2     Random Forest CV    0.5349       0.54    0.54"
      ]
     },
     "execution_count": 66,
     "metadata": {},
     "output_type": "execute_result"
    }
   ],
   "source": [
    "Model_Results = pd.DataFrame(columns=('Model', 'Accuracy', 'Precision', 'Recall'))\n",
    "Model_Results.loc[Model_Results.shape[0]] = ['Logit Regression CV', 0.5229, 0.52, 0.52]\n",
    "Model_Results.loc[Model_Results.shape[0]] = ['KNN-5 CV', 0.5585, 0.56, 0.56]\n",
    "Model_Results.loc[Model_Results.shape[0]] = ['Random Forest CV', 0.5349, 0.54, 0.54]\n",
    "Model_Results"
   ]
  },
  {
   "cell_type": "markdown",
   "metadata": {
    "collapsed": true
   },
   "source": [
    "The above table shows a summary of results for the default KNN, Logit Regression and Random Forest models. While the accuracy results for the models remain low, they are higher than the baseline value. Therefore, applying the models leads to a slight improvement in the predictions. "
   ]
  },
  {
   "cell_type": "markdown",
   "metadata": {},
   "source": [
    "## Random Forest GridSearch"
   ]
  },
  {
   "cell_type": "markdown",
   "metadata": {},
   "source": [
    "- Having used all three different models above, the next step would be to optimize the hyperparameters for each model. \n",
    "- Hyperparameter optimization is a technique where the algorithm parameters are referred to as hyperparameters whereas the coefficients found by the machine learning algorithm itself are referred to as parameters.\n",
    "- We use the search strategy, Gridsearch, to find a good and robust set of parameters for the model. \n",
    "    - Grid search means you have a set of models (which differ from each other in their parameter values, which lie on a grid). \n",
    "    - What you do is you then train each of the models and evaluate it using cross-validation. You then select the one that performed best."
   ]
  },
  {
   "cell_type": "code",
   "execution_count": 53,
   "metadata": {
    "collapsed": false
   },
   "outputs": [
    {
     "data": {
      "text/plain": [
       "GridSearchCV(cv=None, error_score='raise',\n",
       "       estimator=RandomForestClassifier(bootstrap=True, class_weight=None, criterion='gini',\n",
       "            max_depth=None, max_features='auto', max_leaf_nodes=None,\n",
       "            min_impurity_split=1e-07, min_samples_leaf=1,\n",
       "            min_samples_split=2, min_weight_fraction_leaf=0.0,\n",
       "            n_estimators=10, n_jobs=1, oob_score=False, random_state=None,\n",
       "            verbose=0, warm_start=False),\n",
       "       fit_params={}, iid=True, n_jobs=1,\n",
       "       param_grid={'n_estimators': [20, 25], 'max_features': [2], 'random_state': [0], 'min_samples_leaf': [150, 200, 250]},\n",
       "       pre_dispatch='2*n_jobs', refit=True, scoring=None, verbose=0)"
      ]
     },
     "execution_count": 53,
     "metadata": {},
     "output_type": "execute_result"
    }
   ],
   "source": [
    "from sklearn.ensemble import RandomForestClassifier as RFC\n",
    "from sklearn.grid_search import GridSearchCV as GS\n",
    "# setting the range of values for our parameters\n",
    "parameters = {\n",
    "       'n_estimators': [ 20,25 ],\n",
    "       'random_state': [ 0 ],\n",
    "       'max_features': [ 2 ],\n",
    "       'min_samples_leaf': [150,200,250]\n",
    "}\n",
    "# implementing my classifier\n",
    "model = RFC()\n",
    "grid = GS(estimator=model, param_grid=parameters)\n",
    "grid.fit(X_train, y_train)"
   ]
  },
  {
   "cell_type": "markdown",
   "metadata": {},
   "source": [
    "In this example, we are using a random forest classifier, to find different values for n_estimators, max_features, min_samples_leaf, etc. \n",
    "This particular gridsearch uses the following parameters: \n",
    "- (n_estimators, min_samples_leaf ): ([15,20, 25],[150,180,200]). \n",
    "\n",
    "Grid-search would basically train a RandomForestClassifier for each of these 3 pair of (n_estimators, min_samples_leaf ) values, then evaluate it using cross-validation, and select the one that did best."
   ]
  },
  {
   "cell_type": "code",
   "execution_count": 54,
   "metadata": {
    "collapsed": true
   },
   "outputs": [],
   "source": [
    "y_hat_grid_ref = grid.predict(X_test)"
   ]
  },
  {
   "cell_type": "code",
   "execution_count": 55,
   "metadata": {
    "collapsed": true
   },
   "outputs": [],
   "source": [
    "probs_rf = grid.predict_proba(X_test)"
   ]
  },
  {
   "cell_type": "code",
   "execution_count": 56,
   "metadata": {
    "collapsed": false
   },
   "outputs": [
    {
     "name": "stdout",
     "output_type": "stream",
     "text": [
      "Accuracy score: 0.53405783039\n"
     ]
    }
   ],
   "source": [
    "accuracy = accuracy_score(y_test, y_hat_grid_ref, normalize=True,sample_weight=None)\n",
    "print 'Accuracy score:', accuracy"
   ]
  },
  {
   "cell_type": "code",
   "execution_count": 57,
   "metadata": {
    "collapsed": false
   },
   "outputs": [
    {
     "name": "stdout",
     "output_type": "stream",
     "text": [
      "Classification report\n",
      "             precision    recall  f1-score   support\n",
      "\n",
      "        0.0       0.53      0.55      0.54     23078\n",
      "        1.0       0.54      0.52      0.53     23299\n",
      "\n",
      "avg / total       0.53      0.53      0.53     46377\n",
      "\n"
     ]
    }
   ],
   "source": [
    "print 'Classification report'\n",
    "print(classification_report(y_test,y_hat_grid_ref))"
   ]
  },
  {
   "cell_type": "code",
   "execution_count": 58,
   "metadata": {
    "collapsed": false
   },
   "outputs": [
    {
     "data": {
      "image/png": "[encoded data removed]",
      "text/plain": [
       "<matplotlib.figure.Figure at 0x114bf6e50>"
      ]
     },
     "metadata": {},
     "output_type": "display_data"
    }
   ],
   "source": [
    "conf_matrix_grid_rf = (confusion_matrix(y_test, y_hat_grid_ref))\n",
    "plot_confusion_matrix(conf_matrix_grid_rf, [0,1], \"Confusion matrix - Gridsearch Random Forest\", cmap=plt.cm.Blues)"
   ]
  },
  {
   "cell_type": "code",
   "execution_count": 61,
   "metadata": {
    "collapsed": false
   },
   "outputs": [
    {
     "data": {
      "image/png": "[encoded data removed]",
      "text/plain": [
       "<matplotlib.figure.Figure at 0x112c42050>"
      ]
     },
     "metadata": {},
     "output_type": "display_data"
    }
   ],
   "source": [
    "probs_rf = grid.predict_proba(X_test)\n",
    "Y_score_rf = probs_rf[:,1]\n",
    "\n",
    "FPR, TPR, THR = roc_curve(y_test, Y_score_rf)\n",
    "ROC_AUC = auc(FPR, TPR)\n",
    "\n",
    "plt.plot(FPR, TPR, label='ROC curve (area = %0.2f)' % ROC_AUC, linewidth=4)\n",
    "plt.plot([0, 1], [0, 1], 'k--', linewidth=4)\n",
    "plt.xlim([0.0, 1.0])\n",
    "plt.ylim([0.0, 1.05])\n",
    "plt.xlabel('False Positive Rate (1-specificity)', fontsize=12)\n",
    "plt.ylabel('True Positive Rate (sensitivity)', fontsize=12)\n",
    "plt.title(\"ROC Curve - Random Forest\", fontsize=14)\n",
    "plt.legend(loc=\"lower right\")\n",
    "plt.show()"
   ]
  },
  {
   "cell_type": "markdown",
   "metadata": {},
   "source": [
    "# KNN GridSearch"
   ]
  },
  {
   "cell_type": "markdown",
   "metadata": {},
   "source": [
    "Given the Random Forest's gridsearch results, and the fact that KNN had the most optimal predictive values out of the default models (0.55 vs 0.52 and 0.53), my final model will be a KNN GridSearch.  "
   ]
  },
  {
   "cell_type": "code",
   "execution_count": 33,
   "metadata": {
    "collapsed": false
   },
   "outputs": [],
   "source": [
    "from sklearn.ensemble import RandomForestClassifier as RFC\n",
    "from sklearn.grid_search import GridSearchCV as GS"
   ]
  },
  {
   "cell_type": "code",
   "execution_count": 34,
   "metadata": {
    "collapsed": true
   },
   "outputs": [],
   "source": [
    "knn_parameters = {'n_neighbors':range(1,10),'weights': ['uniform', 'distance']}"
   ]
  },
  {
   "cell_type": "code",
   "execution_count": 35,
   "metadata": {
    "collapsed": false
   },
   "outputs": [
    {
     "name": "stdout",
     "output_type": "stream",
     "text": [
      "Fitting 5 folds for each of 18 candidates, totalling 90 fits\n"
     ]
    },
    {
     "name": "stderr",
     "output_type": "stream",
     "text": [
      "[Parallel(n_jobs=4)]: Done  42 tasks      | elapsed: 138.9min\n",
      "[Parallel(n_jobs=4)]: Done  90 out of  90 | elapsed: 194.6min finished\n"
     ]
    },
    {
     "data": {
      "text/plain": [
       "GridSearchCV(cv=5, error_score='raise',\n",
       "       estimator=KNeighborsClassifier(algorithm='auto', leaf_size=30, metric='minkowski',\n",
       "           metric_params=None, n_jobs=1, n_neighbors=5, p=2,\n",
       "           weights='uniform'),\n",
       "       fit_params={}, iid=True, n_jobs=4,\n",
       "       param_grid={'n_neighbors': [1, 2, 3, 4, 5, 6, 7, 8, 9], 'weights': ['uniform', 'distance']},\n",
       "       pre_dispatch='2*n_jobs', refit=True, scoring='accuracy',\n",
       "       verbose=True)"
      ]
     },
     "execution_count": 35,
     "metadata": {},
     "output_type": "execute_result"
    }
   ],
   "source": [
    "knngrid = GS(KNeighborsClassifier(), param_grid = knn_parameters, verbose=True, cv=5, scoring='accuracy', n_jobs=4)\n",
    "knngrid.fit(X_train, y_train)"
   ]
  },
  {
   "cell_type": "code",
   "execution_count": 36,
   "metadata": {
    "collapsed": false
   },
   "outputs": [
    {
     "name": "stdout",
     "output_type": "stream",
     "text": [
      "Accuracy score: 0.69308062186\n"
     ]
    }
   ],
   "source": [
    "y_hat_gr_knn = knngrid.predict(X_test)\n",
    "score = accuracy_score(y_test, y_hat_gr_knn)\n",
    "print 'Accuracy score:', score"
   ]
  },
  {
   "cell_type": "code",
   "execution_count": 39,
   "metadata": {
    "collapsed": true
   },
   "outputs": [],
   "source": [
    "prob_predictions_test = knngrid.predict_proba(X_test)"
   ]
  },
  {
   "cell_type": "code",
   "execution_count": 40,
   "metadata": {
    "collapsed": false
   },
   "outputs": [
    {
     "name": "stdout",
     "output_type": "stream",
     "text": [
      "Classification report:\n",
      "             precision    recall  f1-score   support\n",
      "\n",
      "        0.0       0.69      0.69      0.69     23251\n",
      "        1.0       0.69      0.69      0.69     23126\n",
      "\n",
      "avg / total       0.69      0.69      0.69     46377\n",
      "\n"
     ]
    }
   ],
   "source": [
    "print \"Classification report:\"\n",
    "print classification_report(y_test, y_hat_gr_knn)"
   ]
  },
  {
   "cell_type": "code",
   "execution_count": 55,
   "metadata": {
    "collapsed": false
   },
   "outputs": [
    {
     "data": {
      "image/png": "[encoded data removed]",
      "text/plain": [
       "<matplotlib.figure.Figure at 0x112530590>"
      ]
     },
     "metadata": {},
     "output_type": "display_data"
    }
   ],
   "source": [
    "conf_matrix_grid_knnGS = (confusion_matrix(y_test, y_hat_gr_knn))\n",
    "plot_confusion_matrix(conf_matrix_grid_knnGS, [0,1], \"Confusion matrix - Gridsearch Random Forest\", cmap=plt.cm.Blues)"
   ]
  },
  {
   "cell_type": "code",
   "execution_count": 56,
   "metadata": {
    "collapsed": false
   },
   "outputs": [
    {
     "data": {
      "image/png": "[encoded data removed]",
      "text/plain": [
       "<matplotlib.figure.Figure at 0x1147be5d0>"
      ]
     },
     "metadata": {},
     "output_type": "display_data"
    }
   ],
   "source": [
    "y_score_knnGS = prob_predictions_test[:,1]\n",
    "\n",
    "FPR, TPR, THR = roc_curve(y_test, y_score_knnGS)\n",
    "ROC_AUC = auc(FPR, TPR)\n",
    "\n",
    "plt.plot(FPR, TPR, label='ROC curve (area = %0.2f)' % ROC_AUC, linewidth=4)\n",
    "plt.plot([0, 1], [0, 1], 'k--', linewidth=4)\n",
    "plt.xlim([0.0, 1.0])\n",
    "plt.ylim([0.0, 1.05])\n",
    "plt.xlabel('False Positive Rate (1-specificity)', fontsize=12)\n",
    "plt.ylabel('True Positive Rate (sensitivity)', fontsize=12)\n",
    "plt.title(\"ROC Curve - KNN GridSearch\", fontsize=14)\n",
    "plt.legend(loc=\"lower right\")\n",
    "plt.show()"
   ]
  },
  {
   "cell_type": "markdown",
   "metadata": {},
   "source": [
    "Given the additional results with the KNN and RF Gridsearch, our updated table for accuracy looks like the following:"
   ]
  },
  {
   "cell_type": "code",
   "execution_count": 57,
   "metadata": {
    "collapsed": false
   },
   "outputs": [
    {
     "data": {
      "text/html": [
       "<div>\n",
       "<table border=\"1\" class=\"dataframe\">\n",
       "  <thead>\n",
       "    <tr style=\"text-align: right;\">\n",
       "      <th></th>\n",
       "      <th>Model</th>\n",
       "      <th>Accuracy</th>\n",
       "      <th>Precision</th>\n",
       "      <th>Recall</th>\n",
       "    </tr>\n",
       "  </thead>\n",
       "  <tbody>\n",
       "    <tr>\n",
       "      <th>0</th>\n",
       "      <td>Logit Regression CV</td>\n",
       "      <td>0.5229</td>\n",
       "      <td>0.52</td>\n",
       "      <td>0.52</td>\n",
       "    </tr>\n",
       "    <tr>\n",
       "      <th>1</th>\n",
       "      <td>KNN-5 CV</td>\n",
       "      <td>0.5585</td>\n",
       "      <td>0.56</td>\n",
       "      <td>0.56</td>\n",
       "    </tr>\n",
       "    <tr>\n",
       "      <th>2</th>\n",
       "      <td>Random Forest CV</td>\n",
       "      <td>0.5349</td>\n",
       "      <td>0.54</td>\n",
       "      <td>0.54</td>\n",
       "    </tr>\n",
       "    <tr>\n",
       "      <th>3</th>\n",
       "      <td>Random Forest GridSearch</td>\n",
       "      <td>0.5340</td>\n",
       "      <td>0.53</td>\n",
       "      <td>0.53</td>\n",
       "    </tr>\n",
       "    <tr>\n",
       "      <th>4</th>\n",
       "      <td>KNN GridSearch</td>\n",
       "      <td>0.6930</td>\n",
       "      <td>0.69</td>\n",
       "      <td>0.69</td>\n",
       "    </tr>\n",
       "  </tbody>\n",
       "</table>\n",
       "</div>"
      ],
      "text/plain": [
       "                      Model  Accuracy  Precision  Recall\n",
       "0       Logit Regression CV    0.5229       0.52    0.52\n",
       "1                  KNN-5 CV    0.5585       0.56    0.56\n",
       "2          Random Forest CV    0.5349       0.54    0.54\n",
       "3  Random Forest GridSearch    0.5340       0.53    0.53\n",
       "4            KNN GridSearch    0.6930       0.69    0.69"
      ]
     },
     "execution_count": 57,
     "metadata": {},
     "output_type": "execute_result"
    }
   ],
   "source": [
    "Model_Results = pd.DataFrame(columns=('Model', 'Accuracy', 'Precision', 'Recall'))\n",
    "Model_Results.loc[Model_Results.shape[0]] = ['Logit Regression CV', 0.5229, 0.52, 0.52]\n",
    "Model_Results.loc[Model_Results.shape[0]] = ['KNN-5 CV', 0.5585, 0.56, 0.56]\n",
    "Model_Results.loc[Model_Results.shape[0]] = ['Random Forest CV', 0.5349, 0.54, 0.54]\n",
    "Model_Results.loc[Model_Results.shape[0]] = ['Random Forest GridSearch', 0.534, 0.53, 0.53]\n",
    "Model_Results.loc[Model_Results.shape[0]] = ['KNN GridSearch', 0.693, 0.69, 0.69]\n",
    "Model_Results"
   ]
  },
  {
   "cell_type": "markdown",
   "metadata": {},
   "source": [
    "As shown in our results, the RF gridsearch did very little in improving the default's accuracy value, while precision and recall both decreased. KNN, the best performing default model, had quite a significant improvement when using Gridsearch. "
   ]
  },
  {
   "cell_type": "markdown",
   "metadata": {},
   "source": [
    "Given the KNN GS model has the most optimal prediction value, we will use it on Numerai's tournament data. In order to submit we also need to calculate the logloss score."
   ]
  },
  {
   "cell_type": "code",
   "execution_count": 61,
   "metadata": {
    "collapsed": false
   },
   "outputs": [
    {
     "name": "stdout",
     "output_type": "stream",
     "text": [
      "logloss 10.6006197728\n"
     ]
    }
   ],
   "source": [
    "from sklearn.metrics import log_loss\n",
    "logloss = log_loss(y_test, prob_predictions_test)\n",
    "print 'logloss', logloss"
   ]
  },
  {
   "cell_type": "code",
   "execution_count": 62,
   "metadata": {
    "collapsed": true
   },
   "outputs": [],
   "source": [
    "tournament_data = pd.read_csv('/Users/jp/DSI/Capstone/tournament 44/numerai_tournament_data.csv')"
   ]
  },
  {
   "cell_type": "code",
   "execution_count": 65,
   "metadata": {
    "collapsed": false
   },
   "outputs": [
    {
     "data": {
      "text/html": [
       "<div>\n",
       "<table border=\"1\" class=\"dataframe\">\n",
       "  <thead>\n",
       "    <tr style=\"text-align: right;\">\n",
       "      <th></th>\n",
       "      <th>t_id</th>\n",
       "      <th>feature1</th>\n",
       "      <th>feature2</th>\n",
       "      <th>feature3</th>\n",
       "      <th>feature4</th>\n",
       "      <th>feature5</th>\n",
       "      <th>feature6</th>\n",
       "      <th>feature7</th>\n",
       "      <th>feature8</th>\n",
       "      <th>feature9</th>\n",
       "      <th>...</th>\n",
       "      <th>feature41</th>\n",
       "      <th>feature42</th>\n",
       "      <th>feature43</th>\n",
       "      <th>feature44</th>\n",
       "      <th>feature45</th>\n",
       "      <th>feature46</th>\n",
       "      <th>feature47</th>\n",
       "      <th>feature48</th>\n",
       "      <th>feature49</th>\n",
       "      <th>feature50</th>\n",
       "    </tr>\n",
       "  </thead>\n",
       "  <tbody>\n",
       "    <tr>\n",
       "      <th>0</th>\n",
       "      <td>120343</td>\n",
       "      <td>0.527396</td>\n",
       "      <td>0.389264</td>\n",
       "      <td>0.248415</td>\n",
       "      <td>0.391827</td>\n",
       "      <td>0.615901</td>\n",
       "      <td>0.575447</td>\n",
       "      <td>0.526073</td>\n",
       "      <td>0.391853</td>\n",
       "      <td>0.630488</td>\n",
       "      <td>...</td>\n",
       "      <td>0.288244</td>\n",
       "      <td>0.545858</td>\n",
       "      <td>0.465975</td>\n",
       "      <td>0.525572</td>\n",
       "      <td>0.509174</td>\n",
       "      <td>0.666237</td>\n",
       "      <td>0.328988</td>\n",
       "      <td>0.551777</td>\n",
       "      <td>0.834982</td>\n",
       "      <td>0.466029</td>\n",
       "    </tr>\n",
       "    <tr>\n",
       "      <th>1</th>\n",
       "      <td>158751</td>\n",
       "      <td>0.347771</td>\n",
       "      <td>0.494118</td>\n",
       "      <td>0.380688</td>\n",
       "      <td>0.377086</td>\n",
       "      <td>0.341614</td>\n",
       "      <td>0.543619</td>\n",
       "      <td>0.516503</td>\n",
       "      <td>0.566225</td>\n",
       "      <td>0.545643</td>\n",
       "      <td>...</td>\n",
       "      <td>0.509841</td>\n",
       "      <td>0.305048</td>\n",
       "      <td>0.534322</td>\n",
       "      <td>0.418551</td>\n",
       "      <td>0.531436</td>\n",
       "      <td>0.499126</td>\n",
       "      <td>0.562278</td>\n",
       "      <td>0.407548</td>\n",
       "      <td>0.635160</td>\n",
       "      <td>0.342811</td>\n",
       "    </tr>\n",
       "    <tr>\n",
       "      <th>2</th>\n",
       "      <td>75407</td>\n",
       "      <td>0.285406</td>\n",
       "      <td>0.496860</td>\n",
       "      <td>0.393405</td>\n",
       "      <td>0.518879</td>\n",
       "      <td>0.334936</td>\n",
       "      <td>0.845866</td>\n",
       "      <td>0.314618</td>\n",
       "      <td>0.441339</td>\n",
       "      <td>0.577873</td>\n",
       "      <td>...</td>\n",
       "      <td>0.372865</td>\n",
       "      <td>0.402093</td>\n",
       "      <td>0.669767</td>\n",
       "      <td>0.687561</td>\n",
       "      <td>0.581636</td>\n",
       "      <td>0.599819</td>\n",
       "      <td>0.548851</td>\n",
       "      <td>0.439338</td>\n",
       "      <td>0.563476</td>\n",
       "      <td>0.362535</td>\n",
       "    </tr>\n",
       "    <tr>\n",
       "      <th>3</th>\n",
       "      <td>132303</td>\n",
       "      <td>0.567917</td>\n",
       "      <td>0.295597</td>\n",
       "      <td>0.594209</td>\n",
       "      <td>0.535265</td>\n",
       "      <td>0.328880</td>\n",
       "      <td>0.605461</td>\n",
       "      <td>0.290615</td>\n",
       "      <td>0.651410</td>\n",
       "      <td>0.292327</td>\n",
       "      <td>...</td>\n",
       "      <td>0.437614</td>\n",
       "      <td>0.520127</td>\n",
       "      <td>0.573773</td>\n",
       "      <td>0.538756</td>\n",
       "      <td>0.621855</td>\n",
       "      <td>0.373368</td>\n",
       "      <td>0.583633</td>\n",
       "      <td>0.430534</td>\n",
       "      <td>0.411451</td>\n",
       "      <td>0.460545</td>\n",
       "    </tr>\n",
       "    <tr>\n",
       "      <th>4</th>\n",
       "      <td>125953</td>\n",
       "      <td>0.774468</td>\n",
       "      <td>0.399277</td>\n",
       "      <td>0.470438</td>\n",
       "      <td>0.446111</td>\n",
       "      <td>0.621730</td>\n",
       "      <td>0.333230</td>\n",
       "      <td>0.672829</td>\n",
       "      <td>0.462825</td>\n",
       "      <td>0.485715</td>\n",
       "      <td>...</td>\n",
       "      <td>0.434219</td>\n",
       "      <td>0.672102</td>\n",
       "      <td>0.323146</td>\n",
       "      <td>0.445824</td>\n",
       "      <td>0.496894</td>\n",
       "      <td>0.440741</td>\n",
       "      <td>0.385280</td>\n",
       "      <td>0.730263</td>\n",
       "      <td>0.586374</td>\n",
       "      <td>0.662282</td>\n",
       "    </tr>\n",
       "  </tbody>\n",
       "</table>\n",
       "<p>5 rows × 51 columns</p>\n",
       "</div>"
      ],
      "text/plain": [
       "     t_id  feature1  feature2  feature3  feature4  feature5  feature6  \\\n",
       "0  120343  0.527396  0.389264  0.248415  0.391827  0.615901  0.575447   \n",
       "1  158751  0.347771  0.494118  0.380688  0.377086  0.341614  0.543619   \n",
       "2   75407  0.285406  0.496860  0.393405  0.518879  0.334936  0.845866   \n",
       "3  132303  0.567917  0.295597  0.594209  0.535265  0.328880  0.605461   \n",
       "4  125953  0.774468  0.399277  0.470438  0.446111  0.621730  0.333230   \n",
       "\n",
       "   feature7  feature8  feature9    ...      feature41  feature42  feature43  \\\n",
       "0  0.526073  0.391853  0.630488    ...       0.288244   0.545858   0.465975   \n",
       "1  0.516503  0.566225  0.545643    ...       0.509841   0.305048   0.534322   \n",
       "2  0.314618  0.441339  0.577873    ...       0.372865   0.402093   0.669767   \n",
       "3  0.290615  0.651410  0.292327    ...       0.437614   0.520127   0.573773   \n",
       "4  0.672829  0.462825  0.485715    ...       0.434219   0.672102   0.323146   \n",
       "\n",
       "   feature44  feature45  feature46  feature47  feature48  feature49  feature50  \n",
       "0   0.525572   0.509174   0.666237   0.328988   0.551777   0.834982   0.466029  \n",
       "1   0.418551   0.531436   0.499126   0.562278   0.407548   0.635160   0.342811  \n",
       "2   0.687561   0.581636   0.599819   0.548851   0.439338   0.563476   0.362535  \n",
       "3   0.538756   0.621855   0.373368   0.583633   0.430534   0.411451   0.460545  \n",
       "4   0.445824   0.496894   0.440741   0.385280   0.730263   0.586374   0.662282  \n",
       "\n",
       "[5 rows x 51 columns]"
      ]
     },
     "execution_count": 65,
     "metadata": {},
     "output_type": "execute_result"
    }
   ],
   "source": [
    "tournament_data.head()"
   ]
  },
  {
   "cell_type": "code",
   "execution_count": 98,
   "metadata": {
    "collapsed": false
   },
   "outputs": [],
   "source": [
    "# We now want to predict class probabilities for the tournament data set, we do this using the following formula:\n",
    "prob_predictions_tourney = knngrid.predict_proba(tournament_data.iloc[:,1:51]) "
   ]
  },
  {
   "cell_type": "code",
   "execution_count": 71,
   "metadata": {
    "collapsed": false
   },
   "outputs": [
    {
     "data": {
      "text/html": [
       "<div>\n",
       "<table border=\"1\" class=\"dataframe\">\n",
       "  <thead>\n",
       "    <tr style=\"text-align: right;\">\n",
       "      <th></th>\n",
       "      <th>t_id</th>\n",
       "      <th>feature1</th>\n",
       "      <th>feature2</th>\n",
       "      <th>feature3</th>\n",
       "      <th>feature4</th>\n",
       "      <th>feature5</th>\n",
       "      <th>feature6</th>\n",
       "      <th>feature7</th>\n",
       "      <th>feature8</th>\n",
       "      <th>feature9</th>\n",
       "      <th>...</th>\n",
       "      <th>feature41</th>\n",
       "      <th>feature42</th>\n",
       "      <th>feature43</th>\n",
       "      <th>feature44</th>\n",
       "      <th>feature45</th>\n",
       "      <th>feature46</th>\n",
       "      <th>feature47</th>\n",
       "      <th>feature48</th>\n",
       "      <th>feature49</th>\n",
       "      <th>feature50</th>\n",
       "    </tr>\n",
       "  </thead>\n",
       "  <tbody>\n",
       "    <tr>\n",
       "      <th>0</th>\n",
       "      <td>120343</td>\n",
       "      <td>0.527396</td>\n",
       "      <td>0.389264</td>\n",
       "      <td>0.248415</td>\n",
       "      <td>0.391827</td>\n",
       "      <td>0.615901</td>\n",
       "      <td>0.575447</td>\n",
       "      <td>0.526073</td>\n",
       "      <td>0.391853</td>\n",
       "      <td>0.630488</td>\n",
       "      <td>...</td>\n",
       "      <td>0.288244</td>\n",
       "      <td>0.545858</td>\n",
       "      <td>0.465975</td>\n",
       "      <td>0.525572</td>\n",
       "      <td>0.509174</td>\n",
       "      <td>0.666237</td>\n",
       "      <td>0.328988</td>\n",
       "      <td>0.551777</td>\n",
       "      <td>0.834982</td>\n",
       "      <td>0.466029</td>\n",
       "    </tr>\n",
       "    <tr>\n",
       "      <th>1</th>\n",
       "      <td>158751</td>\n",
       "      <td>0.347771</td>\n",
       "      <td>0.494118</td>\n",
       "      <td>0.380688</td>\n",
       "      <td>0.377086</td>\n",
       "      <td>0.341614</td>\n",
       "      <td>0.543619</td>\n",
       "      <td>0.516503</td>\n",
       "      <td>0.566225</td>\n",
       "      <td>0.545643</td>\n",
       "      <td>...</td>\n",
       "      <td>0.509841</td>\n",
       "      <td>0.305048</td>\n",
       "      <td>0.534322</td>\n",
       "      <td>0.418551</td>\n",
       "      <td>0.531436</td>\n",
       "      <td>0.499126</td>\n",
       "      <td>0.562278</td>\n",
       "      <td>0.407548</td>\n",
       "      <td>0.635160</td>\n",
       "      <td>0.342811</td>\n",
       "    </tr>\n",
       "    <tr>\n",
       "      <th>2</th>\n",
       "      <td>75407</td>\n",
       "      <td>0.285406</td>\n",
       "      <td>0.496860</td>\n",
       "      <td>0.393405</td>\n",
       "      <td>0.518879</td>\n",
       "      <td>0.334936</td>\n",
       "      <td>0.845866</td>\n",
       "      <td>0.314618</td>\n",
       "      <td>0.441339</td>\n",
       "      <td>0.577873</td>\n",
       "      <td>...</td>\n",
       "      <td>0.372865</td>\n",
       "      <td>0.402093</td>\n",
       "      <td>0.669767</td>\n",
       "      <td>0.687561</td>\n",
       "      <td>0.581636</td>\n",
       "      <td>0.599819</td>\n",
       "      <td>0.548851</td>\n",
       "      <td>0.439338</td>\n",
       "      <td>0.563476</td>\n",
       "      <td>0.362535</td>\n",
       "    </tr>\n",
       "    <tr>\n",
       "      <th>3</th>\n",
       "      <td>132303</td>\n",
       "      <td>0.567917</td>\n",
       "      <td>0.295597</td>\n",
       "      <td>0.594209</td>\n",
       "      <td>0.535265</td>\n",
       "      <td>0.328880</td>\n",
       "      <td>0.605461</td>\n",
       "      <td>0.290615</td>\n",
       "      <td>0.651410</td>\n",
       "      <td>0.292327</td>\n",
       "      <td>...</td>\n",
       "      <td>0.437614</td>\n",
       "      <td>0.520127</td>\n",
       "      <td>0.573773</td>\n",
       "      <td>0.538756</td>\n",
       "      <td>0.621855</td>\n",
       "      <td>0.373368</td>\n",
       "      <td>0.583633</td>\n",
       "      <td>0.430534</td>\n",
       "      <td>0.411451</td>\n",
       "      <td>0.460545</td>\n",
       "    </tr>\n",
       "    <tr>\n",
       "      <th>4</th>\n",
       "      <td>125953</td>\n",
       "      <td>0.774468</td>\n",
       "      <td>0.399277</td>\n",
       "      <td>0.470438</td>\n",
       "      <td>0.446111</td>\n",
       "      <td>0.621730</td>\n",
       "      <td>0.333230</td>\n",
       "      <td>0.672829</td>\n",
       "      <td>0.462825</td>\n",
       "      <td>0.485715</td>\n",
       "      <td>...</td>\n",
       "      <td>0.434219</td>\n",
       "      <td>0.672102</td>\n",
       "      <td>0.323146</td>\n",
       "      <td>0.445824</td>\n",
       "      <td>0.496894</td>\n",
       "      <td>0.440741</td>\n",
       "      <td>0.385280</td>\n",
       "      <td>0.730263</td>\n",
       "      <td>0.586374</td>\n",
       "      <td>0.662282</td>\n",
       "    </tr>\n",
       "  </tbody>\n",
       "</table>\n",
       "<p>5 rows × 51 columns</p>\n",
       "</div>"
      ],
      "text/plain": [
       "     t_id  feature1  feature2  feature3  feature4  feature5  feature6  \\\n",
       "0  120343  0.527396  0.389264  0.248415  0.391827  0.615901  0.575447   \n",
       "1  158751  0.347771  0.494118  0.380688  0.377086  0.341614  0.543619   \n",
       "2   75407  0.285406  0.496860  0.393405  0.518879  0.334936  0.845866   \n",
       "3  132303  0.567917  0.295597  0.594209  0.535265  0.328880  0.605461   \n",
       "4  125953  0.774468  0.399277  0.470438  0.446111  0.621730  0.333230   \n",
       "\n",
       "   feature7  feature8  feature9    ...      feature41  feature42  feature43  \\\n",
       "0  0.526073  0.391853  0.630488    ...       0.288244   0.545858   0.465975   \n",
       "1  0.516503  0.566225  0.545643    ...       0.509841   0.305048   0.534322   \n",
       "2  0.314618  0.441339  0.577873    ...       0.372865   0.402093   0.669767   \n",
       "3  0.290615  0.651410  0.292327    ...       0.437614   0.520127   0.573773   \n",
       "4  0.672829  0.462825  0.485715    ...       0.434219   0.672102   0.323146   \n",
       "\n",
       "   feature44  feature45  feature46  feature47  feature48  feature49  feature50  \n",
       "0   0.525572   0.509174   0.666237   0.328988   0.551777   0.834982   0.466029  \n",
       "1   0.418551   0.531436   0.499126   0.562278   0.407548   0.635160   0.342811  \n",
       "2   0.687561   0.581636   0.599819   0.548851   0.439338   0.563476   0.362535  \n",
       "3   0.538756   0.621855   0.373368   0.583633   0.430534   0.411451   0.460545  \n",
       "4   0.445824   0.496894   0.440741   0.385280   0.730263   0.586374   0.662282  \n",
       "\n",
       "[5 rows x 51 columns]"
      ]
     },
     "execution_count": 71,
     "metadata": {},
     "output_type": "execute_result"
    }
   ],
   "source": [
    "tournament_data.head()"
   ]
  },
  {
   "cell_type": "code",
   "execution_count": 72,
   "metadata": {
    "collapsed": false
   },
   "outputs": [],
   "source": [
    "# We then extract the prediction of each line:\n",
    "probability_class_of_one = np.array([x[1] for x in prob_predictions_tourney[:]]) # List comprehension\n",
    "t_id = tournament_data['t_id']"
   ]
  },
  {
   "cell_type": "code",
   "execution_count": 73,
   "metadata": {
    "collapsed": true
   },
   "outputs": [],
   "source": [
    "#Finally, we can create two excel spreadsheets in a folder above:\n",
    "np.savetxt(\n",
    "    '../probability.csv',          # file name\n",
    "    probability_class_of_one,  # array to savela\n",
    "    fmt='%.2f',               # formatting, 2 digits in this case\n",
    "    delimiter=',',          # column delimiter\n",
    "    newline='\\n',           # new line character\n",
    "    header= 'probability')   # file header\n",
    "\n",
    "np.savetxt(\n",
    "    '../t_id.csv',          # file name\n",
    "    t_id,                   # array to save\n",
    "    fmt='%.d',              # formatting, 2 digits in this case\n",
    "    delimiter=',',          # column delimiter\n",
    "    newline='\\n',           # new line character\n",
    "    header= 't_id')   # file header"
   ]
  },
  {
   "cell_type": "code",
   "execution_count": 79,
   "metadata": {
    "collapsed": false
   },
   "outputs": [],
   "source": [
    "df_probability = pd.read_csv(\"/Users/jp/DSI/probability.csv\")\n",
    "\n",
    "df_tradeID = pd.read_csv(\"/Users/jp/DSI/t_id.csv\")\n"
   ]
  },
  {
   "cell_type": "code",
   "execution_count": 93,
   "metadata": {
    "collapsed": false
   },
   "outputs": [
    {
     "data": {
      "text/html": [
       "<div>\n",
       "<table border=\"1\" class=\"dataframe\">\n",
       "  <thead>\n",
       "    <tr style=\"text-align: right;\">\n",
       "      <th></th>\n",
       "      <th># t_id</th>\n",
       "    </tr>\n",
       "  </thead>\n",
       "  <tbody>\n",
       "    <tr>\n",
       "      <th>0</th>\n",
       "      <td>120343</td>\n",
       "    </tr>\n",
       "    <tr>\n",
       "      <th>1</th>\n",
       "      <td>158751</td>\n",
       "    </tr>\n",
       "    <tr>\n",
       "      <th>2</th>\n",
       "      <td>75407</td>\n",
       "    </tr>\n",
       "    <tr>\n",
       "      <th>3</th>\n",
       "      <td>132303</td>\n",
       "    </tr>\n",
       "    <tr>\n",
       "      <th>4</th>\n",
       "      <td>125953</td>\n",
       "    </tr>\n",
       "  </tbody>\n",
       "</table>\n",
       "</div>"
      ],
      "text/plain": [
       "   # t_id\n",
       "0  120343\n",
       "1  158751\n",
       "2   75407\n",
       "3  132303\n",
       "4  125953"
      ]
     },
     "execution_count": 93,
     "metadata": {},
     "output_type": "execute_result"
    }
   ],
   "source": [
    "df_tradeID.head(5)"
   ]
  },
  {
   "cell_type": "code",
   "execution_count": 94,
   "metadata": {
    "collapsed": false
   },
   "outputs": [
    {
     "data": {
      "text/html": [
       "<div>\n",
       "<table border=\"1\" class=\"dataframe\">\n",
       "  <thead>\n",
       "    <tr style=\"text-align: right;\">\n",
       "      <th></th>\n",
       "      <th># probability</th>\n",
       "    </tr>\n",
       "  </thead>\n",
       "  <tbody>\n",
       "    <tr>\n",
       "      <th>0</th>\n",
       "      <td>0.0</td>\n",
       "    </tr>\n",
       "    <tr>\n",
       "      <th>1</th>\n",
       "      <td>0.0</td>\n",
       "    </tr>\n",
       "    <tr>\n",
       "      <th>2</th>\n",
       "      <td>0.0</td>\n",
       "    </tr>\n",
       "    <tr>\n",
       "      <th>3</th>\n",
       "      <td>0.0</td>\n",
       "    </tr>\n",
       "    <tr>\n",
       "      <th>4</th>\n",
       "      <td>1.0</td>\n",
       "    </tr>\n",
       "  </tbody>\n",
       "</table>\n",
       "</div>"
      ],
      "text/plain": [
       "   # probability\n",
       "0            0.0\n",
       "1            0.0\n",
       "2            0.0\n",
       "3            0.0\n",
       "4            1.0"
      ]
     },
     "execution_count": 94,
     "metadata": {},
     "output_type": "execute_result"
    }
   ],
   "source": [
    "df_probability.head(5)"
   ]
  },
  {
   "cell_type": "code",
   "execution_count": 95,
   "metadata": {
    "collapsed": true
   },
   "outputs": [],
   "source": [
    "df = pd.concat([df_tradeID, df_probability], axis=1, join_axes=[df_tradeID.index])"
   ]
  },
  {
   "cell_type": "code",
   "execution_count": 96,
   "metadata": {
    "collapsed": false
   },
   "outputs": [
    {
     "data": {
      "text/html": [
       "<div>\n",
       "<table border=\"1\" class=\"dataframe\">\n",
       "  <thead>\n",
       "    <tr style=\"text-align: right;\">\n",
       "      <th></th>\n",
       "      <th># t_id</th>\n",
       "      <th># probability</th>\n",
       "    </tr>\n",
       "  </thead>\n",
       "  <tbody>\n",
       "    <tr>\n",
       "      <th>0</th>\n",
       "      <td>120343</td>\n",
       "      <td>0.0</td>\n",
       "    </tr>\n",
       "    <tr>\n",
       "      <th>1</th>\n",
       "      <td>158751</td>\n",
       "      <td>0.0</td>\n",
       "    </tr>\n",
       "    <tr>\n",
       "      <th>2</th>\n",
       "      <td>75407</td>\n",
       "      <td>0.0</td>\n",
       "    </tr>\n",
       "    <tr>\n",
       "      <th>3</th>\n",
       "      <td>132303</td>\n",
       "      <td>0.0</td>\n",
       "    </tr>\n",
       "    <tr>\n",
       "      <th>4</th>\n",
       "      <td>125953</td>\n",
       "      <td>1.0</td>\n",
       "    </tr>\n",
       "  </tbody>\n",
       "</table>\n",
       "</div>"
      ],
      "text/plain": [
       "   # t_id  # probability\n",
       "0  120343            0.0\n",
       "1  158751            0.0\n",
       "2   75407            0.0\n",
       "3  132303            0.0\n",
       "4  125953            1.0"
      ]
     },
     "execution_count": 96,
     "metadata": {},
     "output_type": "execute_result"
    }
   ],
   "source": [
    "df.head()"
   ]
  },
  {
   "cell_type": "markdown",
   "metadata": {},
   "source": [
    "In the above table, we have concatenated both the target prediction and the trade ID for the tournament data. The final step will be to submit this spreadsheet by uploading the CSV file up onto the Numerai website. "
   ]
  },
  {
   "cell_type": "markdown",
   "metadata": {},
   "source": [
    "The Data Scientist then waits for 1-2weeks to see if they have made it on the leaderboard. The leaderboard displayed is based only on validation data. To be on the leaderboard, models are required to have concordance, originality, and consistency.\n",
    "\n",
    "Concordance is a measure of whether predictions on the validation set, test set, and live set appear to be generated by the same model. A data scientist who submits perfect answers on the validation set is unlikely to achieve concordance.\n",
    "\n",
    "Originality is a measure of whether a set of predictions is uncorrelated with predictions already submitted. Numerai wants to encourage new models over duplicate submissions. Given the simplicity of my algorithim, originality will be low.\n",
    "\n",
    "Only models with concordance, originality, and consistency control the capital in Numerai’s hedge fund. As such, these are the only models eligible to earn cryptocurrency. Earnings are paid out based on live performance. It takes one month for the market to decide the outcome of predictions. \n",
    "\n",
    "Over time, data scientists who regularly achieve concordance, originality, consistency and strong live logloss will also earn bonuses as their reputation grows."
   ]
  },
  {
   "cell_type": "markdown",
   "metadata": {},
   "source": [
    "---------------------------------"
   ]
  },
  {
   "cell_type": "markdown",
   "metadata": {},
   "source": [
    "# Summary "
   ]
  },
  {
   "cell_type": "markdown",
   "metadata": {},
   "source": [
    "Given the results, I would choose the KNN GridSearch model to predict the tournament data. It had the highest accuracy score although a low logloss score and therefore would not be eligible on the leaderbaord. "
   ]
  },
  {
   "cell_type": "markdown",
   "metadata": {},
   "source": [
    "#### Successes\n",
    " - The aim of this notebook was to give a general overview to any Data Scientist looking to enter and play in the Numerai tournament. We succesfully downloaded, analysed and tested the data using various models, choosing the most accurate one (KNN GS) for our final submission. \n",
    "\n",
    " - While all our algorithms improved the predictive value in the data when compared to the baseline accuracy, KNN Gridsearch was by far the most effective one. Therefore, while there was no correlation shown in our heatmap (during the EDA) we were able to achieve a stronger than average accuracy score for the data.\n",
    " \n",
    " - Assuming the data scientist has the knowledge to take on the tasks, the simplicity in signing up and downloading/predicting the data helps Numerai's underlying thesis \"to increase the network effects of capital allocation.\" Not only have I shared my project with friends and family, but also with an online community in a Slack forum and now with my DS class - spreading the word of Numerai and potentially increasing the number of future model growth. \n"
   ]
  },
  {
   "cell_type": "markdown",
   "metadata": {},
   "source": [
    "#### Setbacks\n",
    " - While encrypting the data serves as an attraction to data scientists who approach the problem purely as a numbers game, it is frustrating to not know what truly lies behind each feature. The company hides the data's information in order to prevent bias, but it could also potentially lose DS in the long run as they will lose interest in looking at essentially meaningless data.  \n",
    " \n",
    " - Given the simplicity of the model of using KNN Gridsearch, I believe many other of the data scientists subscribed to Numerai would have already submitted a similar model. Therefore, one of the main setbacks is that my model would score low in terms of 'originality.'\n",
    " \n",
    " - Moreover, because the data is available to the whole DS community, I believe there are other DS who have significant computing power in order to run more complex models in shorter time."
   ]
  },
  {
   "cell_type": "markdown",
   "metadata": {},
   "source": [
    "#### Next Steps\n",
    " - This notebook has only used 5 models to analyse the data - the natural next steps would be to also use SVM, and Logistic regression gridsearch. \n",
    "\n",
    "\n",
    " - We could look deeper into the data and re-model it hundreds of times using different combinations of features: there are endless opportunities in terms of how we could test to see if we can increase our accuracy score. For example, we could split the data and only use the first 10 features, or from the features importance chart we could only use Features 19, 28 and 33 as they are most relevant to target being 1. "
   ]
  }
 ],
 "metadata": {
  "kernelspec": {
   "display_name": "Python 2",
   "language": "python",
   "name": "python2"
  },
  "language_info": {
   "codemirror_mode": {
    "name": "ipython",
    "version": 2
   },
   "file_extension": ".py",
   "mimetype": "text/x-python",
   "name": "python",
   "nbconvert_exporter": "python",
   "pygments_lexer": "ipython2",
   "version": "2.7.13"
  }
 },
 "nbformat": 4,
 "nbformat_minor": 2
}
